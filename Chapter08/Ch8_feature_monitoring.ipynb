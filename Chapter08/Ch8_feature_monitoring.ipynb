{
 "cells": [
  {
   "cell_type": "code",
   "execution_count": null,
   "metadata": {},
   "outputs": [],
   "source": [
    "!pip install sagemaker==2.88.0 s3fs plotly"
   ]
  },
  {
   "cell_type": "code",
   "execution_count": null,
   "metadata": {},
   "outputs": [],
   "source": [
    "import sagemaker\n",
    "from sagemaker.session import Session\n",
    "from sagemaker.feature_store.feature_group import FeatureGroup\n",
    "# import os\n",
    "# os.environ[\"AWS_ACCESS_KEY_ID\"] = \"<aws_key_id>\"\n",
    "# os.environ[\"AWS_SECRET_ACCESS_KEY\"] = \"<aws_secret>\"\n",
    "# os.environ[\"AWS_DEFAULT_REGION\"] = \"us-east-1\"\n",
    "\n",
    "role = \"arn:aws:iam::<account_number>:role/sagemaker-iam-role\"\n",
    "FEATURE_GROUP_NAME = \"telcom-customer-features\"\n",
    "\n",
    "sagemaker_session = sagemaker.Session()\n",
    "region = sagemaker_session.boto_region_name\n",
    "s3_bucket_name = \"feast-demo-mar-2022\"\n",
    "\n",
    "customers_feature_group = FeatureGroup(\n",
    "    name=FEATURE_GROUP_NAME, sagemaker_session=sagemaker_session\n",
    ")"
   ]
  },
  {
   "cell_type": "code",
   "execution_count": null,
   "metadata": {},
   "outputs": [],
   "source": [
    "get_latest_snapshot_query = customers_feature_group.athena_query()\n",
    "query = f\"\"\"SELECT *\n",
    "FROM\n",
    "    (SELECT *,\n",
    "         row_number()\n",
    "        OVER (PARTITION BY customerid\n",
    "    ORDER BY  event_timestamp desc, Api_Invocation_Time DESC, write_time DESC) AS row_num\n",
    "    FROM \"{get_latest_snapshot_query.table_name}\")\n",
    "WHERE row_num = 1 and \n",
    "NOT is_deleted;\"\"\""
   ]
  },
  {
   "cell_type": "code",
   "execution_count": null,
   "metadata": {},
   "outputs": [],
   "source": [
    "get_latest_snapshot_query.run(query_string=query, output_location=f\"s3://{s3_bucket_name}/output\")\n",
    "get_latest_snapshot_query.wait()"
   ]
  },
  {
   "cell_type": "code",
   "execution_count": null,
   "metadata": {},
   "outputs": [],
   "source": [
    "churn_data = get_latest_snapshot_query.as_dataframe()\n",
    "churn_data = churn_data.drop(columns=[\"event_timestamp\", \"write_time\", \"api_invocation_time\", \"is_deleted\", \"row_num\"])"
   ]
  },
  {
   "cell_type": "code",
   "execution_count": null,
   "metadata": {},
   "outputs": [],
   "source": [
    "churn_data.describe(include='all').T"
   ]
  },
  {
   "cell_type": "code",
   "execution_count": null,
   "metadata": {},
   "outputs": [],
   "source": [
    "import numpy as np\n",
    "import warnings\n",
    "warnings.filterwarnings(\"ignore\")\n",
    "import plotly.offline as py\n",
    "import plotly.graph_objs as go\n",
    "correlation = churn_data.corr()\n",
    "matrix_cols = correlation.columns.tolist()\n",
    "corr_array = np.array(correlation)\n",
    "trace = go.Heatmap(z=corr_array,\n",
    "                   x=matrix_cols,\n",
    "                   y=matrix_cols,\n",
    "                   colorscale=\"Viridis\",\n",
    "                   colorbar=dict(title=\"Pearson Correlation coefficient\",\n",
    "                                 titleside=\"right\"\n",
    "                                 ),\n",
    "                   )\n",
    "layout = go.Layout(dict(title=\"Correlation Matrix for variables\",\n",
    "                        autosize=False,\n",
    "                        height=720,\n",
    "                        width=800,\n",
    "                        margin=dict(r=0, l=210,\n",
    "                                    t=25, b=210,\n",
    "                                    ),\n",
    "                        yaxis=dict(tickfont=dict(size=9)),\n",
    "                        xaxis=dict(tickfont=dict(size=9))\n",
    "                        )\n",
    "                   )\n",
    "fig = go.Figure(data=[trace], layout=layout)\n",
    "py.iplot(fig)\n"
   ]
  }
 ],
 "metadata": {
  "language_info": {
   "name": "python"
  },
  "orig_nbformat": 4
 },
 "nbformat": 4,
 "nbformat_minor": 2
}
