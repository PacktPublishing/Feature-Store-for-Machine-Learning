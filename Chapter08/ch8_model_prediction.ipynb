{
  "cells": [
    {
      "cell_type": "code",
      "execution_count": null,
      "metadata": {
        "id": "kk-3YAoFKzMn"
      },
      "outputs": [],
      "source": [
        "!pip install sagemaker==2.88.0 s3fs joblib scikit-learn==1.0.2 xgboost"
      ]
    },
    {
      "cell_type": "code",
      "execution_count": null,
      "metadata": {
        "id": "jFpnVi_bK94a"
      },
      "outputs": [],
      "source": [
        "import sagemaker\n",
        "from sagemaker.session import Session\n",
        "from sagemaker.feature_store.feature_group import FeatureGroup\n",
        "# import os\n",
        "# os.environ[\"AWS_ACCESS_KEY_ID\"] = \"<aws_key_id>\"\n",
        "# os.environ[\"AWS_SECRET_ACCESS_KEY\"] = \"<aws_secret>\"\n",
        "# os.environ[\"AWS_DEFAULT_REGION\"] = \"us-east-1\"\n",
        "\n",
        "role = \"arn:aws:iam::<account_number>:role/sagemaker-iam-role\"\n",
        "FEATURE_GROUP_NAME = \"telcom-customer-features\"\n",
        "\n",
        "sagemaker_session = sagemaker.Session()\n",
        "region = sagemaker_session.boto_region_name\n",
        "s3_bucket_name = \"feast-demo-mar-2022\"\n",
        "\n",
        "customers_feature_group = FeatureGroup(\n",
        "    name=FEATURE_GROUP_NAME, sagemaker_session=sagemaker_session\n",
        ")"
      ]
    },
    {
      "cell_type": "code",
      "execution_count": null,
      "metadata": {
        "id": "9sCMx5R1LDGn"
      },
      "outputs": [],
      "source": [
        "get_latest_snapshot_query = customers_feature_group.athena_query()\n",
        "query = f\"\"\"SELECT *\n",
        "FROM\n",
        "    (SELECT *,\n",
        "         row_number()\n",
        "        OVER (PARTITION BY customerid\n",
        "    ORDER BY  event_timestamp desc, Api_Invocation_Time DESC, write_time DESC) AS row_num\n",
        "    FROM \"{get_latest_snapshot_query.table_name}\")\n",
        "WHERE row_num = 1 and \n",
        "NOT is_deleted;\"\"\"\n"
      ]
    },
    {
      "cell_type": "code",
      "execution_count": null,
      "metadata": {
        "id": "JoRSQVHxLF5a"
      },
      "outputs": [],
      "source": [
        "get_latest_snapshot_query.run(query_string=query, output_location=f\"s3://{s3_bucket_name}/output\")\n",
        "get_latest_snapshot_query.wait()"
      ]
    },
    {
      "cell_type": "code",
      "execution_count": null,
      "metadata": {
        "id": "6QUv8b_ZLJpc"
      },
      "outputs": [],
      "source": [
        "churn_data = get_latest_snapshot_query.as_dataframe()\n",
        "churn_data = churn_data.drop(columns=[\"event_timestamp\", \"write_time\", \"api_invocation_time\", \"is_deleted\", \"row_num\"])"
      ]
    },
    {
      "cell_type": "code",
      "execution_count": null,
      "metadata": {
        "id": "5aoYaFpwLP9s"
      },
      "outputs": [],
      "source": [
        "import boto3\n",
        "from datetime import date\n",
        "s3 = boto3.client('s3')\n",
        "s3.download_file(s3_bucket_name, f\"model-repo/customer-churn-v0.0\", \"customer-churn-v0.0\")"
      ]
    },
    {
      "cell_type": "code",
      "execution_count": null,
      "metadata": {
        "id": "59yoPIzxLShg"
      },
      "outputs": [],
      "source": [
        "features = churn_data.drop(['customerid', 'churn'], axis=1)\n",
        "loaded_model = joblib.load('/content/customer-churn-v0.0')\n",
        "prediction = loaded_model.predict(features)\n",
        "prediction.tolist()"
      ]
    },
    {
      "cell_type": "code",
      "execution_count": null,
      "metadata": {
        "id": "MxetQ8AxLcxr"
      },
      "outputs": [],
      "source": [
        "file_name = f\"customer_churn_prediction_{date.today()}.parquet\"\n",
        "churn_data[\"predicted_churn\"] = prediction.tolist()\n",
        "s3_url = f's3://{s3_bucket_name}/prediction_results/{file_name}'\n",
        "churn_data.to_parquet(s3_url)"
      ]
    }
  ],
  "metadata": {
    "colab": {
      "collapsed_sections": [],
      "name": "ch8-model-prediction.ipynb",
      "provenance": []
    },
    "kernelspec": {
      "display_name": "Python 3",
      "name": "python3"
    },
    "language_info": {
      "name": "python"
    }
  },
  "nbformat": 4,
  "nbformat_minor": 0
}
