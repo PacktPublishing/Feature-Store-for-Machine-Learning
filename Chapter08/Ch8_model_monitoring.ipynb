{
 "cells": [
  {
   "cell_type": "code",
   "execution_count": null,
   "metadata": {},
   "outputs": [],
   "source": [
    "!pip install sagemaker==2.88.0 s3fs pandas"
   ]
  },
  {
   "cell_type": "code",
   "execution_count": null,
   "metadata": {},
   "outputs": [],
   "source": [
    "import sagemaker\n",
    "from sagemaker.session import Session\n",
    "from sagemaker.feature_store.feature_group import FeatureGroup\n",
    "# import os\n",
    "# os.environ[\"AWS_ACCESS_KEY_ID\"] = \"<aws_key_id>\"\n",
    "# os.environ[\"AWS_SECRET_ACCESS_KEY\"] = \"<aws_secret>\"\n",
    "# os.environ[\"AWS_DEFAULT_REGION\"] = \"us-east-1\"\n",
    "\n",
    "role = \"arn:aws:iam::<account_number>:role/sagemaker-iam-role\"\n",
    "FEATURE_GROUP_NAME = \"telcom-customer-features\"\n",
    "\n",
    "sagemaker_session = sagemaker.Session()\n",
    "region = sagemaker_session.boto_region_name\n",
    "s3_bucket_name = \"feast-demo-mar-2022\"\n",
    "\n",
    "customers_feature_group = FeatureGroup(\n",
    "    name=FEATURE_GROUP_NAME, sagemaker_session=sagemaker_session\n",
    ")"
   ]
  },
  {
   "cell_type": "code",
   "execution_count": null,
   "metadata": {},
   "outputs": [],
   "source": [
    "get_latest_snapshot_query = customers_feature_group.athena_query()\n",
    "query = f\"\"\"SELECT *\n",
    "FROM\n",
    "    (SELECT *,\n",
    "         row_number()\n",
    "        OVER (PARTITION BY customerid\n",
    "    ORDER BY  event_timestamp desc, Api_Invocation_Time DESC, write_time DESC) AS row_num\n",
    "    FROM \"{get_latest_snapshot_query.table_name}\")\n",
    "WHERE row_num = 1 and \n",
    "NOT is_deleted;\"\"\""
   ]
  },
  {
   "cell_type": "code",
   "execution_count": null,
   "metadata": {},
   "outputs": [],
   "source": [
    "get_latest_snapshot_query.run(query_string=query, output_location=f\"s3://{s3_bucket_name}/output\")\n",
    "get_latest_snapshot_query.wait()"
   ]
  },
  {
   "cell_type": "code",
   "execution_count": null,
   "metadata": {},
   "outputs": [],
   "source": [
    "churn_data = get_latest_snapshot_query.as_dataframe()\n",
    "churn_data = churn_data.drop(columns=[\"event_timestamp\", \"write_time\", \"api_invocation_time\", \"is_deleted\", \"row_num\"])"
   ]
  },
  {
   "cell_type": "code",
   "execution_count": null,
   "metadata": {},
   "outputs": [],
   "source": [
    "from datetime import date, timedelta\n",
    "import pandas as pd\n",
    "pred_date = date.today()-timedelta(weeks=4)\n",
    "file_name = f\"customer_churn_prediction_{pred_date}.parquet\"\n",
    "prediction_data = pd.read_parquet(f\"s3://{s3_bucket_name}/prediction_results/{file_name}\")\n",
    "\n",
    "prediction_y = prediction_data[[\"customerid\", \"predicted_churn\"]]\n",
    "acutal_y = churn_data[[\"customerid\", \"churn\"]]\n",
    "\n",
    "merged_data = prediction_y.merge(acutal_y, on=\"customerid\")"
   ]
  },
  {
   "cell_type": "code",
   "execution_count": null,
   "metadata": {},
   "outputs": [],
   "source": [
    "testing_y = merged_data[\"churn\"]\n",
    "predictions = merged_data[\"predicted_churn\"]\n",
    "print(\"\\n Classification report : \\n\", classification_report(testing_y, predictions))\n",
    "print(\"Accuracy   Score : \", accuracy_score(testing_y, predictions))\n",
    "# confusion matrix\n",
    "conf_matrix = confusion_matrix(testing_y, predictions)\n",
    "# roc_auc_score\n",
    "model_roc_auc = roc_auc_score(testing_y, predictions)\n",
    "print(\"Area under curve : \", model_roc_auc, \"\\n\")"
   ]
  }
 ],
 "metadata": {
  "language_info": {
   "name": "python"
  },
  "orig_nbformat": 4
 },
 "nbformat": 4,
 "nbformat_minor": 2
}
