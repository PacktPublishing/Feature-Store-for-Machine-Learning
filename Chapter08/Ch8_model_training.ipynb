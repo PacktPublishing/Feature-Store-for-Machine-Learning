{
  "cells": [
    {
      "cell_type": "code",
      "execution_count": 4,
      "metadata": {
        "colab": {
          "base_uri": "https://localhost:8080/"
        },
        "id": "nLC7QBAA4ohp",
        "outputId": "cfb0e26c-52e1-4176-8bdb-bf57c4f28e14"
      },
      "outputs": [
        {
          "name": "stdout",
          "output_type": "stream",
          "text": [
            "Requirement already satisfied: sagemaker==2.88.0 in /usr/local/lib/python3.7/dist-packages (2.88.0)\n",
            "Requirement already satisfied: s3fs in /usr/local/lib/python3.7/dist-packages (0.4.2)\n",
            "Requirement already satisfied: joblib in /usr/local/lib/python3.7/dist-packages (1.1.0)\n",
            "Requirement already satisfied: scikit-learn==1.0.2 in /usr/local/lib/python3.7/dist-packages (1.0.2)\n",
            "Requirement already satisfied: xgboost in /usr/local/lib/python3.7/dist-packages (0.90)\n",
            "Requirement already satisfied: protobuf3-to-dict>=0.1.5 in /usr/local/lib/python3.7/dist-packages (from sagemaker==2.88.0) (0.1.5)\n",
            "Requirement already satisfied: packaging>=20.0 in /usr/local/lib/python3.7/dist-packages (from sagemaker==2.88.0) (21.3)\n",
            "Requirement already satisfied: smdebug-rulesconfig==1.0.1 in /usr/local/lib/python3.7/dist-packages (from sagemaker==2.88.0) (1.0.1)\n",
            "Requirement already satisfied: boto3>=1.20.21 in /usr/local/lib/python3.7/dist-packages (from sagemaker==2.88.0) (1.22.9)\n",
            "Requirement already satisfied: pandas in /usr/local/lib/python3.7/dist-packages (from sagemaker==2.88.0) (1.3.5)\n",
            "Requirement already satisfied: pathos in /usr/local/lib/python3.7/dist-packages (from sagemaker==2.88.0) (0.2.8)\n",
            "Requirement already satisfied: protobuf>=3.1 in /usr/local/lib/python3.7/dist-packages (from sagemaker==2.88.0) (3.17.3)\n",
            "Requirement already satisfied: importlib-metadata>=1.4.0 in /usr/local/lib/python3.7/dist-packages (from sagemaker==2.88.0) (4.11.3)\n",
            "Requirement already satisfied: numpy>=1.9.0 in /usr/local/lib/python3.7/dist-packages (from sagemaker==2.88.0) (1.21.6)\n",
            "Requirement already satisfied: attrs==20.3.0 in /usr/local/lib/python3.7/dist-packages (from sagemaker==2.88.0) (20.3.0)\n",
            "Requirement already satisfied: google-pasta in /usr/local/lib/python3.7/dist-packages (from sagemaker==2.88.0) (0.2.0)\n",
            "Requirement already satisfied: threadpoolctl>=2.0.0 in /usr/local/lib/python3.7/dist-packages (from scikit-learn==1.0.2) (3.1.0)\n",
            "Requirement already satisfied: scipy>=1.1.0 in /usr/local/lib/python3.7/dist-packages (from scikit-learn==1.0.2) (1.4.1)\n",
            "Requirement already satisfied: jmespath<2.0.0,>=0.7.1 in /usr/local/lib/python3.7/dist-packages (from boto3>=1.20.21->sagemaker==2.88.0) (1.0.0)\n",
            "Requirement already satisfied: s3transfer<0.6.0,>=0.5.0 in /usr/local/lib/python3.7/dist-packages (from boto3>=1.20.21->sagemaker==2.88.0) (0.5.2)\n",
            "Requirement already satisfied: botocore<1.26.0,>=1.25.9 in /usr/local/lib/python3.7/dist-packages (from boto3>=1.20.21->sagemaker==2.88.0) (1.25.9)\n",
            "Requirement already satisfied: urllib3<1.27,>=1.25.4 in /usr/local/lib/python3.7/dist-packages (from botocore<1.26.0,>=1.25.9->boto3>=1.20.21->sagemaker==2.88.0) (1.26.9)\n",
            "Requirement already satisfied: python-dateutil<3.0.0,>=2.1 in /usr/local/lib/python3.7/dist-packages (from botocore<1.26.0,>=1.25.9->boto3>=1.20.21->sagemaker==2.88.0) (2.8.2)\n",
            "Requirement already satisfied: typing-extensions>=3.6.4 in /usr/local/lib/python3.7/dist-packages (from importlib-metadata>=1.4.0->sagemaker==2.88.0) (4.2.0)\n",
            "Requirement already satisfied: zipp>=0.5 in /usr/local/lib/python3.7/dist-packages (from importlib-metadata>=1.4.0->sagemaker==2.88.0) (3.8.0)\n",
            "Requirement already satisfied: pyparsing!=3.0.5,>=2.0.2 in /usr/local/lib/python3.7/dist-packages (from packaging>=20.0->sagemaker==2.88.0) (3.0.8)\n",
            "Requirement already satisfied: six>=1.9 in /usr/local/lib/python3.7/dist-packages (from protobuf>=3.1->sagemaker==2.88.0) (1.15.0)\n",
            "Requirement already satisfied: fsspec>=0.6.0 in /usr/local/lib/python3.7/dist-packages (from s3fs) (2022.3.0)\n",
            "Requirement already satisfied: pytz>=2017.3 in /usr/local/lib/python3.7/dist-packages (from pandas->sagemaker==2.88.0) (2022.1)\n",
            "Requirement already satisfied: pox>=0.3.0 in /usr/local/lib/python3.7/dist-packages (from pathos->sagemaker==2.88.0) (0.3.0)\n",
            "Requirement already satisfied: ppft>=1.6.6.4 in /usr/local/lib/python3.7/dist-packages (from pathos->sagemaker==2.88.0) (1.6.6.4)\n",
            "Requirement already satisfied: multiprocess>=0.70.12 in /usr/local/lib/python3.7/dist-packages (from pathos->sagemaker==2.88.0) (0.70.12.2)\n",
            "Requirement already satisfied: dill>=0.3.4 in /usr/local/lib/python3.7/dist-packages (from pathos->sagemaker==2.88.0) (0.3.4)\n"
          ]
        }
      ],
      "source": [
        "!pip install sagemaker==2.88.0 s3fs joblib scikit-learn==1.0.2 xgboost"
      ]
    },
    {
      "cell_type": "code",
      "execution_count": 3,
      "metadata": {
        "id": "82JzSWJn47lr"
      },
      "outputs": [],
      "source": [
        "import sagemaker\n",
        "from sagemaker.session import Session\n",
        "from sagemaker.feature_store.feature_group import FeatureGroup\n",
        "# import os\n",
        "# os.environ[\"AWS_ACCESS_KEY_ID\"] = \"<aws_key_id>\"\n",
        "# os.environ[\"AWS_SECRET_ACCESS_KEY\"] = \"<aws_secret>\"\n",
        "# os.environ[\"AWS_DEFAULT_REGION\"] = \"us-east-1\"\n",
        "\n",
        "role = \"arn:aws:iam::<account_number>:role/sagemaker-iam-role\"\n",
        "FEATURE_GROUP_NAME = \"telcom-customer-features\"\n",
        "\n",
        "sagemaker_session = sagemaker.Session()\n",
        "region = sagemaker_session.boto_region_name\n",
        "s3_bucket_name = \"feast-demo-mar-2022\"\n",
        "\n",
        "customers_feature_group = FeatureGroup(\n",
        "    name=FEATURE_GROUP_NAME, sagemaker_session=sagemaker_session\n",
        ")"
      ]
    },
    {
      "cell_type": "code",
      "execution_count": null,
      "metadata": {
        "id": "P9ik1Xku4xMI"
      },
      "outputs": [],
      "source": [
        "get_latest_snapshot_query = customers_feature_group.athena_query()\n",
        "query = f\"\"\"SELECT *\n",
        "FROM\n",
        "    (SELECT *,\n",
        "         row_number()\n",
        "        OVER (PARTITION BY customerid\n",
        "    ORDER BY  event_timestamp desc, Api_Invocation_Time DESC, write_time DESC) AS row_num\n",
        "    FROM \"{get_latest_snapshot_query.table_name}\")\n",
        "WHERE row_num = 1 and \n",
        "NOT is_deleted;\"\"\"\n"
      ]
    },
    {
      "cell_type": "code",
      "execution_count": null,
      "metadata": {
        "id": "Du9ymm6j5Rkl"
      },
      "outputs": [],
      "source": [
        "get_latest_snapshot_query.run(query_string=query, output_location=f\"s3://{s3_bucket_name}/output\")\n",
        "get_latest_snapshot_query.wait()"
      ]
    },
    {
      "cell_type": "code",
      "execution_count": null,
      "metadata": {
        "id": "UvE573th5S56"
      },
      "outputs": [],
      "source": [
        "churn_data = get_latest_snapshot_query.as_dataframe()\n",
        "churn_data = churn_data.drop(columns=[\"event_timestamp\", \"write_time\", \"api_invocation_time\", \"is_deleted\", \"row_num\"])"
      ]
    },
    {
      "cell_type": "code",
      "execution_count": null,
      "metadata": {
        "id": "M9K4TrKL9GcT"
      },
      "outputs": [],
      "source": [
        "from sklearn.model_selection import train_test_split\n",
        "from sklearn.linear_model import LogisticRegression\n",
        "from sklearn.metrics import confusion_matrix,accuracy_score,classification_report\n",
        "from sklearn.metrics import roc_auc_score,roc_curve\n",
        "import statsmodels.api as sm\n",
        "from sklearn.metrics import precision_score,recall_score\n",
        "from yellowbrick.classifier import DiscriminationThreshold\n",
        "\n",
        "Id_col = [\"customerid\"]\n",
        "target_col = [\"churn\"]\n",
        "\n",
        "# Split into a train and test set\n",
        "train, test = train_test_split(churn_data,test_size = .25 ,random_state = 111)\n",
        "cols    = [i for i in churn_data.columns if i not in Id_col + target_col]\n",
        "training_x = train[cols]\n",
        "training_y = train[target_col]\n",
        "testing_x  = test[cols]\n",
        "testing_y  = test[target_col]"
      ]
    },
    {
      "cell_type": "code",
      "execution_count": null,
      "metadata": {
        "id": "beRox30u-KB_"
      },
      "outputs": [],
      "source": [
        "model = XGBClassifier(max_depth=7, objective='binary:logistic')\n",
        "model.fit(training_x, training_y)\n",
        "predictions = model.predict(testing_x)\n",
        "probabilities = model.predict_proba(testing_x)"
      ]
    },
    {
      "cell_type": "code",
      "execution_count": null,
      "metadata": {
        "id": "13mV4wlT_PDp"
      },
      "outputs": [],
      "source": [
        "print(\"\\n Classification report : \\n\", classification_report(testing_y, predictions))\n",
        "print(\"Accuracy   Score : \", accuracy_score(testing_y, predictions))\n",
        "# confusion matrix\n",
        "conf_matrix = confusion_matrix(testing_y, predictions)\n",
        "# roc_auc_score\n",
        "model_roc_auc = roc_auc_score(testing_y, predictions)\n",
        "print(\"Area under curve : \", model_roc_auc, \"\\n\")"
      ]
    },
    {
      "cell_type": "code",
      "execution_count": null,
      "metadata": {
        "id": "2IX9y7U9_T84"
      },
      "outputs": [],
      "source": [
        "import joblib\n",
        "import boto3\n",
        "joblib.dump(model, '/content/customer-churn-v0.0')\n",
        "s3_client = boto3.client('s3')\n",
        "response = s3_client.upload_file('/content/customer-churn-v0.0', s3_bucket_name, \"model-repo/customer-churn-v0.0\")"
      ]
    }
  ],
  "metadata": {
    "colab": {
      "collapsed_sections": [],
      "name": "Ch8-model-training.ipynb",
      "provenance": []
    },
    "kernelspec": {
      "display_name": "Python 3",
      "name": "python3"
    },
    "language_info": {
      "name": "python"
    }
  },
  "nbformat": 4,
  "nbformat_minor": 0
}
