{
  "cells": [
    {
      "cell_type": "code",
      "execution_count": 1,
      "metadata": {
        "colab": {
          "base_uri": "https://localhost:8080/"
        },
        "id": "SZgQZqqrE6NY",
        "outputId": "f9f4e8f5-c45c-4dcd-9b21-ac65649a369a"
      },
      "outputs": [
        {
          "name": "stdout",
          "output_type": "stream",
          "text": [
            "Collecting sagemaker\n",
            "  Downloading sagemaker-2.88.1.tar.gz (527 kB)\n",
            "\u001b[K     |████████████████████████████████| 527 kB 8.1 MB/s \n",
            "\u001b[?25hCollecting attrs==20.3.0\n",
            "  Downloading attrs-20.3.0-py2.py3-none-any.whl (49 kB)\n",
            "\u001b[K     |████████████████████████████████| 49 kB 5.9 MB/s \n",
            "\u001b[?25hCollecting boto3>=1.20.21\n",
            "  Downloading boto3-1.22.4-py3-none-any.whl (132 kB)\n",
            "\u001b[K     |████████████████████████████████| 132 kB 60.8 MB/s \n",
            "\u001b[?25hRequirement already satisfied: google-pasta in /usr/local/lib/python3.7/dist-packages (from sagemaker) (0.2.0)\n",
            "Requirement already satisfied: numpy>=1.9.0 in /usr/local/lib/python3.7/dist-packages (from sagemaker) (1.21.6)\n",
            "Requirement already satisfied: protobuf>=3.1 in /usr/local/lib/python3.7/dist-packages (from sagemaker) (3.17.3)\n",
            "Collecting protobuf3-to-dict>=0.1.5\n",
            "  Downloading protobuf3-to-dict-0.1.5.tar.gz (3.5 kB)\n",
            "Collecting smdebug_rulesconfig==1.0.1\n",
            "  Downloading smdebug_rulesconfig-1.0.1-py2.py3-none-any.whl (20 kB)\n",
            "Requirement already satisfied: importlib-metadata>=1.4.0 in /usr/local/lib/python3.7/dist-packages (from sagemaker) (4.11.3)\n",
            "Requirement already satisfied: packaging>=20.0 in /usr/local/lib/python3.7/dist-packages (from sagemaker) (21.3)\n",
            "Requirement already satisfied: pandas in /usr/local/lib/python3.7/dist-packages (from sagemaker) (1.3.5)\n",
            "Collecting pathos\n",
            "  Downloading pathos-0.2.8-py2.py3-none-any.whl (81 kB)\n",
            "\u001b[K     |████████████████████████████████| 81 kB 12.7 MB/s \n",
            "\u001b[?25hCollecting jmespath<2.0.0,>=0.7.1\n",
            "  Downloading jmespath-1.0.0-py3-none-any.whl (23 kB)\n",
            "Collecting botocore<1.26.0,>=1.25.4\n",
            "  Downloading botocore-1.25.4-py3-none-any.whl (8.7 MB)\n",
            "\u001b[K     |████████████████████████████████| 8.7 MB 45.4 MB/s \n",
            "\u001b[?25hCollecting s3transfer<0.6.0,>=0.5.0\n",
            "  Downloading s3transfer-0.5.2-py3-none-any.whl (79 kB)\n",
            "\u001b[K     |████████████████████████████████| 79 kB 10.5 MB/s \n",
            "\u001b[?25hCollecting urllib3<1.27,>=1.25.4\n",
            "  Downloading urllib3-1.26.9-py2.py3-none-any.whl (138 kB)\n",
            "\u001b[K     |████████████████████████████████| 138 kB 40.6 MB/s \n",
            "\u001b[?25hRequirement already satisfied: python-dateutil<3.0.0,>=2.1 in /usr/local/lib/python3.7/dist-packages (from botocore<1.26.0,>=1.25.4->boto3>=1.20.21->sagemaker) (2.8.2)\n",
            "Requirement already satisfied: zipp>=0.5 in /usr/local/lib/python3.7/dist-packages (from importlib-metadata>=1.4.0->sagemaker) (3.8.0)\n",
            "Requirement already satisfied: typing-extensions>=3.6.4 in /usr/local/lib/python3.7/dist-packages (from importlib-metadata>=1.4.0->sagemaker) (4.2.0)\n",
            "Requirement already satisfied: pyparsing!=3.0.5,>=2.0.2 in /usr/local/lib/python3.7/dist-packages (from packaging>=20.0->sagemaker) (3.0.8)\n",
            "Requirement already satisfied: six>=1.9 in /usr/local/lib/python3.7/dist-packages (from protobuf>=3.1->sagemaker) (1.15.0)\n",
            "Requirement already satisfied: pytz>=2017.3 in /usr/local/lib/python3.7/dist-packages (from pandas->sagemaker) (2022.1)\n",
            "Requirement already satisfied: multiprocess>=0.70.12 in /usr/local/lib/python3.7/dist-packages (from pathos->sagemaker) (0.70.12.2)\n",
            "Requirement already satisfied: dill>=0.3.4 in /usr/local/lib/python3.7/dist-packages (from pathos->sagemaker) (0.3.4)\n",
            "Collecting pox>=0.3.0\n",
            "  Downloading pox-0.3.0-py2.py3-none-any.whl (30 kB)\n",
            "Collecting ppft>=1.6.6.4\n",
            "  Downloading ppft-1.6.6.4-py3-none-any.whl (65 kB)\n",
            "\u001b[K     |████████████████████████████████| 65 kB 4.5 MB/s \n",
            "\u001b[?25hBuilding wheels for collected packages: sagemaker, protobuf3-to-dict\n",
            "  Building wheel for sagemaker (setup.py) ... \u001b[?25l\u001b[?25hdone\n",
            "  Created wheel for sagemaker: filename=sagemaker-2.88.1-py2.py3-none-any.whl size=728476 sha256=94f43ec276f20df81ad5d8db675afcd6f420ced3d6361d02e32efff18ed42a13\n",
            "  Stored in directory: /root/.cache/pip/wheels/24/22/dc/4532decda751afdd10730d5ba070afa0f210a676e4f173d990\n",
            "  Building wheel for protobuf3-to-dict (setup.py) ... \u001b[?25l\u001b[?25hdone\n",
            "  Created wheel for protobuf3-to-dict: filename=protobuf3_to_dict-0.1.5-py3-none-any.whl size=4030 sha256=2f244ed26a39070a082491f04251e051f6170fd2fde101f3c7686687be336d11\n",
            "  Stored in directory: /root/.cache/pip/wheels/ce/a0/8b/995ce2fbaf0e9fe7eb91da84e99e84d1b35cfaa555f2b8f1c7\n",
            "Successfully built sagemaker protobuf3-to-dict\n",
            "Installing collected packages: urllib3, jmespath, botocore, s3transfer, ppft, pox, smdebug-rulesconfig, protobuf3-to-dict, pathos, boto3, attrs, sagemaker\n",
            "  Attempting uninstall: urllib3\n",
            "    Found existing installation: urllib3 1.24.3\n",
            "    Uninstalling urllib3-1.24.3:\n",
            "      Successfully uninstalled urllib3-1.24.3\n",
            "  Attempting uninstall: attrs\n",
            "    Found existing installation: attrs 21.4.0\n",
            "    Uninstalling attrs-21.4.0:\n",
            "      Successfully uninstalled attrs-21.4.0\n",
            "\u001b[31mERROR: pip's dependency resolver does not currently take into account all the packages that are installed. This behaviour is the source of the following dependency conflicts.\n",
            "requests 2.23.0 requires urllib3!=1.25.0,!=1.25.1,<1.26,>=1.21.1, but you have urllib3 1.26.9 which is incompatible.\n",
            "datascience 0.10.6 requires folium==0.2.1, but you have folium 0.8.3 which is incompatible.\u001b[0m\n",
            "Successfully installed attrs-20.3.0 boto3-1.22.4 botocore-1.25.4 jmespath-1.0.0 pathos-0.2.8 pox-0.3.0 ppft-1.6.6.4 protobuf3-to-dict-0.1.5 s3transfer-0.5.2 sagemaker-2.88.1 smdebug-rulesconfig-1.0.1 urllib3-1.26.9\n"
          ]
        }
      ],
      "source": [
        "!pip install sagemaker"
      ]
    },
    {
      "cell_type": "code",
      "execution_count": 80,
      "metadata": {
        "colab": {
          "base_uri": "https://localhost:8080/",
          "height": 206
        },
        "id": "j4ECgaUv1AwK",
        "outputId": "0cfe5958-e3ec-4cc7-ac90-84681a5de06d"
      },
      "outputs": [
        {
          "data": {
            "text/html": [
              "\n",
              "  <div id=\"df-29df6f37-52ee-43ae-85b3-4480175ecf08\">\n",
              "    <div class=\"colab-df-container\">\n",
              "      <div>\n",
              "<style scoped>\n",
              "    .dataframe tbody tr th:only-of-type {\n",
              "        vertical-align: middle;\n",
              "    }\n",
              "\n",
              "    .dataframe tbody tr th {\n",
              "        vertical-align: top;\n",
              "    }\n",
              "\n",
              "    .dataframe thead th {\n",
              "        text-align: right;\n",
              "    }\n",
              "</style>\n",
              "<table border=\"1\" class=\"dataframe\">\n",
              "  <thead>\n",
              "    <tr style=\"text-align: right;\">\n",
              "      <th></th>\n",
              "      <th>customerid</th>\n",
              "      <th>recency</th>\n",
              "      <th>frequency</th>\n",
              "      <th>monetaryvalue</th>\n",
              "      <th>r</th>\n",
              "      <th>f</th>\n",
              "      <th>m</th>\n",
              "      <th>rfmscore</th>\n",
              "      <th>revenue6m</th>\n",
              "      <th>ltvcluster</th>\n",
              "      <th>segmenthighvalue</th>\n",
              "      <th>segmentlowValue</th>\n",
              "      <th>segmentmidvalue</th>\n",
              "      <th>event_timestamp</th>\n",
              "    </tr>\n",
              "  </thead>\n",
              "  <tbody>\n",
              "    <tr>\n",
              "      <th>0</th>\n",
              "      <td>12747.0</td>\n",
              "      <td>7</td>\n",
              "      <td>35</td>\n",
              "      <td>1082.09</td>\n",
              "      <td>3</td>\n",
              "      <td>2</td>\n",
              "      <td>3</td>\n",
              "      <td>8</td>\n",
              "      <td>1666.11</td>\n",
              "      <td>1</td>\n",
              "      <td>1</td>\n",
              "      <td>0</td>\n",
              "      <td>0</td>\n",
              "      <td>1.651462e+09</td>\n",
              "    </tr>\n",
              "    <tr>\n",
              "      <th>1</th>\n",
              "      <td>12748.0</td>\n",
              "      <td>1</td>\n",
              "      <td>582</td>\n",
              "      <td>4336.73</td>\n",
              "      <td>3</td>\n",
              "      <td>3</td>\n",
              "      <td>3</td>\n",
              "      <td>9</td>\n",
              "      <td>18679.01</td>\n",
              "      <td>2</td>\n",
              "      <td>1</td>\n",
              "      <td>0</td>\n",
              "      <td>0</td>\n",
              "      <td>1.651462e+09</td>\n",
              "    </tr>\n",
              "    <tr>\n",
              "      <th>2</th>\n",
              "      <td>12749.0</td>\n",
              "      <td>8</td>\n",
              "      <td>54</td>\n",
              "      <td>782.10</td>\n",
              "      <td>3</td>\n",
              "      <td>3</td>\n",
              "      <td>3</td>\n",
              "      <td>9</td>\n",
              "      <td>2323.04</td>\n",
              "      <td>1</td>\n",
              "      <td>1</td>\n",
              "      <td>0</td>\n",
              "      <td>0</td>\n",
              "      <td>1.651462e+09</td>\n",
              "    </tr>\n",
              "    <tr>\n",
              "      <th>4</th>\n",
              "      <td>12823.0</td>\n",
              "      <td>63</td>\n",
              "      <td>1</td>\n",
              "      <td>459.00</td>\n",
              "      <td>0</td>\n",
              "      <td>0</td>\n",
              "      <td>2</td>\n",
              "      <td>2</td>\n",
              "      <td>765.00</td>\n",
              "      <td>1</td>\n",
              "      <td>0</td>\n",
              "      <td>1</td>\n",
              "      <td>0</td>\n",
              "      <td>1.651462e+09</td>\n",
              "    </tr>\n",
              "    <tr>\n",
              "      <th>7</th>\n",
              "      <td>12836.0</td>\n",
              "      <td>28</td>\n",
              "      <td>62</td>\n",
              "      <td>814.71</td>\n",
              "      <td>1</td>\n",
              "      <td>3</td>\n",
              "      <td>3</td>\n",
              "      <td>7</td>\n",
              "      <td>951.46</td>\n",
              "      <td>1</td>\n",
              "      <td>1</td>\n",
              "      <td>0</td>\n",
              "      <td>0</td>\n",
              "      <td>1.651462e+09</td>\n",
              "    </tr>\n",
              "  </tbody>\n",
              "</table>\n",
              "</div>\n",
              "      <button class=\"colab-df-convert\" onclick=\"convertToInteractive('df-29df6f37-52ee-43ae-85b3-4480175ecf08')\"\n",
              "              title=\"Convert this dataframe to an interactive table.\"\n",
              "              style=\"display:none;\">\n",
              "        \n",
              "  <svg xmlns=\"http://www.w3.org/2000/svg\" height=\"24px\"viewBox=\"0 0 24 24\"\n",
              "       width=\"24px\">\n",
              "    <path d=\"M0 0h24v24H0V0z\" fill=\"none\"/>\n",
              "    <path d=\"M18.56 5.44l.94 2.06.94-2.06 2.06-.94-2.06-.94-.94-2.06-.94 2.06-2.06.94zm-11 1L8.5 8.5l.94-2.06 2.06-.94-2.06-.94L8.5 2.5l-.94 2.06-2.06.94zm10 10l.94 2.06.94-2.06 2.06-.94-2.06-.94-.94-2.06-.94 2.06-2.06.94z\"/><path d=\"M17.41 7.96l-1.37-1.37c-.4-.4-.92-.59-1.43-.59-.52 0-1.04.2-1.43.59L10.3 9.45l-7.72 7.72c-.78.78-.78 2.05 0 2.83L4 21.41c.39.39.9.59 1.41.59.51 0 1.02-.2 1.41-.59l7.78-7.78 2.81-2.81c.8-.78.8-2.07 0-2.86zM5.41 20L4 18.59l7.72-7.72 1.47 1.35L5.41 20z\"/>\n",
              "  </svg>\n",
              "      </button>\n",
              "      \n",
              "  <style>\n",
              "    .colab-df-container {\n",
              "      display:flex;\n",
              "      flex-wrap:wrap;\n",
              "      gap: 12px;\n",
              "    }\n",
              "\n",
              "    .colab-df-convert {\n",
              "      background-color: #E8F0FE;\n",
              "      border: none;\n",
              "      border-radius: 50%;\n",
              "      cursor: pointer;\n",
              "      display: none;\n",
              "      fill: #1967D2;\n",
              "      height: 32px;\n",
              "      padding: 0 0 0 0;\n",
              "      width: 32px;\n",
              "    }\n",
              "\n",
              "    .colab-df-convert:hover {\n",
              "      background-color: #E2EBFA;\n",
              "      box-shadow: 0px 1px 2px rgba(60, 64, 67, 0.3), 0px 1px 3px 1px rgba(60, 64, 67, 0.15);\n",
              "      fill: #174EA6;\n",
              "    }\n",
              "\n",
              "    [theme=dark] .colab-df-convert {\n",
              "      background-color: #3B4455;\n",
              "      fill: #D2E3FC;\n",
              "    }\n",
              "\n",
              "    [theme=dark] .colab-df-convert:hover {\n",
              "      background-color: #434B5C;\n",
              "      box-shadow: 0px 1px 3px 1px rgba(0, 0, 0, 0.15);\n",
              "      filter: drop-shadow(0px 1px 2px rgba(0, 0, 0, 0.3));\n",
              "      fill: #FFFFFF;\n",
              "    }\n",
              "  </style>\n",
              "\n",
              "      <script>\n",
              "        const buttonEl =\n",
              "          document.querySelector('#df-29df6f37-52ee-43ae-85b3-4480175ecf08 button.colab-df-convert');\n",
              "        buttonEl.style.display =\n",
              "          google.colab.kernel.accessAllowed ? 'block' : 'none';\n",
              "\n",
              "        async function convertToInteractive(key) {\n",
              "          const element = document.querySelector('#df-29df6f37-52ee-43ae-85b3-4480175ecf08');\n",
              "          const dataTable =\n",
              "            await google.colab.kernel.invokeFunction('convertToInteractive',\n",
              "                                                     [key], {});\n",
              "          if (!dataTable) return;\n",
              "\n",
              "          const docLinkHtml = 'Like what you see? Visit the ' +\n",
              "            '<a target=\"_blank\" href=https://colab.research.google.com/notebooks/data_table.ipynb>data table notebook</a>'\n",
              "            + ' to learn more about interactive tables.';\n",
              "          element.innerHTML = '';\n",
              "          dataTable['output_type'] = 'display_data';\n",
              "          await google.colab.output.renderOutput(dataTable, element);\n",
              "          const docLink = document.createElement('div');\n",
              "          docLink.innerHTML = docLinkHtml;\n",
              "          element.appendChild(docLink);\n",
              "        }\n",
              "      </script>\n",
              "    </div>\n",
              "  </div>\n",
              "  "
            ],
            "text/plain": [
              "   customerid  recency  frequency  monetaryvalue  r  f  m  rfmscore  \\\n",
              "0     12747.0        7         35        1082.09  3  2  3         8   \n",
              "1     12748.0        1        582        4336.73  3  3  3         9   \n",
              "2     12749.0        8         54         782.10  3  3  3         9   \n",
              "4     12823.0       63          1         459.00  0  0  2         2   \n",
              "7     12836.0       28         62         814.71  1  3  3         7   \n",
              "\n",
              "   revenue6m  ltvcluster  segmenthighvalue  segmentlowValue  segmentmidvalue  \\\n",
              "0    1666.11           1                 1                0                0   \n",
              "1   18679.01           2                 1                0                0   \n",
              "2    2323.04           1                 1                0                0   \n",
              "4     765.00           1                 0                1                0   \n",
              "7     951.46           1                 1                0                0   \n",
              "\n",
              "   event_timestamp  \n",
              "0     1.651462e+09  \n",
              "1     1.651462e+09  \n",
              "2     1.651462e+09  \n",
              "4     1.651462e+09  \n",
              "7     1.651462e+09  "
            ]
          },
          "execution_count": 80,
          "metadata": {},
          "output_type": "execute_result"
        }
      ],
      "source": [
        "import pandas as pd\n",
        "import time\n",
        "df = pd.read_parquet(path=\"/content/rfm_features.parquet\")\n",
        "df = df.drop(columns=[\"created_timestamp\"])\n",
        "df[\"event_timestamp\"] = float(round(time.time()))\n",
        "df[\"customerid\"] = df['customerid'].astype(float)\n",
        "df.head()"
      ]
    },
    {
      "cell_type": "code",
      "execution_count": 2,
      "metadata": {
        "id": "rdZI6IloFkJz"
      },
      "outputs": [],
      "source": [
        "import os\n",
        "os.environ[\"AWS_ACCESS_KEY_ID\"] = \"<aws_key_id>\"\n",
        "os.environ[\"AWS_SECRET_ACCESS_KEY\"] = \"<aws_secret_id>\"\n",
        "os.environ[\"AWS_DEFAULT_REGION\"] = \"us-east-1\""
      ]
    },
    {
      "cell_type": "code",
      "execution_count": 40,
      "metadata": {
        "id": "9JlD7eeUFJ7F"
      },
      "outputs": [],
      "source": [
        "import sagemaker\n",
        "import pandas as pd\n",
        "from sagemaker.session import Session\n",
        "\n",
        "prefix = 'sagemaker-featurestore-introduction'\n",
        "role = \"arn:aws:iam::<account_number>:role/sagemaker-iam-role\"\n",
        "\n",
        "sagemaker_session = sagemaker.Session()\n",
        "region = sagemaker_session.boto_region_name\n",
        "s3_bucket_name = \"<S3_bucket>\""
      ]
    },
    {
      "cell_type": "code",
      "execution_count": 55,
      "metadata": {
        "id": "yrndqXwYJdDB"
      },
      "outputs": [],
      "source": [
        "from sagemaker.feature_store.feature_group import FeatureGroup\n",
        "\n",
        "customers_feature_group = FeatureGroup(\n",
        "    name=\"customer-rfm-features\", sagemaker_session=sagemaker_session\n",
        ")"
      ]
    },
    {
      "cell_type": "code",
      "execution_count": 56,
      "metadata": {
        "colab": {
          "base_uri": "https://localhost:8080/"
        },
        "id": "n4EO5aEpUvl8",
        "outputId": "7c6229d8-f30b-4cdc-943d-4f69b80c3ec9"
      },
      "outputs": [
        {
          "data": {
            "text/plain": [
              "[FeatureDefinition(feature_name='customerid', feature_type=<FeatureTypeEnum.FRACTIONAL: 'Fractional'>),\n",
              " FeatureDefinition(feature_name='recency', feature_type=<FeatureTypeEnum.INTEGRAL: 'Integral'>),\n",
              " FeatureDefinition(feature_name='frequency', feature_type=<FeatureTypeEnum.INTEGRAL: 'Integral'>),\n",
              " FeatureDefinition(feature_name='monetaryvalue', feature_type=<FeatureTypeEnum.FRACTIONAL: 'Fractional'>),\n",
              " FeatureDefinition(feature_name='r', feature_type=<FeatureTypeEnum.INTEGRAL: 'Integral'>),\n",
              " FeatureDefinition(feature_name='f', feature_type=<FeatureTypeEnum.INTEGRAL: 'Integral'>),\n",
              " FeatureDefinition(feature_name='m', feature_type=<FeatureTypeEnum.INTEGRAL: 'Integral'>),\n",
              " FeatureDefinition(feature_name='rfmscore', feature_type=<FeatureTypeEnum.INTEGRAL: 'Integral'>),\n",
              " FeatureDefinition(feature_name='revenue6m', feature_type=<FeatureTypeEnum.FRACTIONAL: 'Fractional'>),\n",
              " FeatureDefinition(feature_name='ltvcluster', feature_type=<FeatureTypeEnum.INTEGRAL: 'Integral'>),\n",
              " FeatureDefinition(feature_name='segmenthighvalue', feature_type=<FeatureTypeEnum.INTEGRAL: 'Integral'>),\n",
              " FeatureDefinition(feature_name='segmentlowValue', feature_type=<FeatureTypeEnum.INTEGRAL: 'Integral'>),\n",
              " FeatureDefinition(feature_name='segmentmidvalue', feature_type=<FeatureTypeEnum.INTEGRAL: 'Integral'>),\n",
              " FeatureDefinition(feature_name='event_timestamp', feature_type=<FeatureTypeEnum.FRACTIONAL: 'Fractional'>)]"
            ]
          },
          "execution_count": 56,
          "metadata": {},
          "output_type": "execute_result"
        }
      ],
      "source": [
        "customers_feature_group.load_feature_definitions(df)"
      ]
    },
    {
      "cell_type": "code",
      "execution_count": null,
      "metadata": {
        "id": "dU6S-bKj6QGN"
      },
      "outputs": [],
      "source": [
        "customers_feature_group.create(\n",
        "    s3_uri=f\"s3://{s3_bucket_name}/{prefix}\",\n",
        "    record_identifier_name=\"customerid\",\n",
        "    event_time_feature_name=\"event_timestamp\",\n",
        "    role_arn=role,\n",
        "    enable_online_store=True\n",
        ")"
      ]
    },
    {
      "cell_type": "code",
      "execution_count": 59,
      "metadata": {
        "id": "wMTO9mTZY-VO"
      },
      "outputs": [],
      "source": [
        "ingestion_manager = customers_feature_group.ingest(df.head())\n",
        "ingestion_manager.wait()"
      ]
    },
    {
      "cell_type": "code",
      "execution_count": 61,
      "metadata": {
        "colab": {
          "base_uri": "https://localhost:8080/"
        },
        "id": "PmcE6ZxiZWVH",
        "outputId": "4543fa74-704f-47f3-93c4-9994b181f720"
      },
      "outputs": [
        {
          "data": {
            "text/plain": [
              "[]"
            ]
          },
          "execution_count": 61,
          "metadata": {},
          "output_type": "execute_result"
        }
      ],
      "source": [
        "ingestion_manager.failed_rows"
      ]
    },
    {
      "cell_type": "code",
      "execution_count": 63,
      "metadata": {
        "colab": {
          "base_uri": "https://localhost:8080/"
        },
        "id": "hq9Mj9l7ZbUj",
        "outputId": "3f53a7b8-01f4-427a-b39c-2f3c9c0288c0"
      },
      "outputs": [
        {
          "name": "stdout",
          "output_type": "stream",
          "text": [
            "{'ResponseMetadata': {'RequestId': '55342bbc-c69b-49ca-bbd8-2c5f9ed73565', 'HTTPStatusCode': 200, 'HTTPHeaders': {'x-amzn-requestid': '55342bbc-c69b-49ca-bbd8-2c5f9ed73565', 'content-type': 'application/json', 'content-length': '729', 'date': 'Mon, 02 May 2022 01:36:27 GMT'}, 'RetryAttempts': 0}, 'Record': [{'FeatureName': 'customerid', 'ValueAsString': '12747.0'}, {'FeatureName': 'recency', 'ValueAsString': '7'}, {'FeatureName': 'frequency', 'ValueAsString': '35'}, {'FeatureName': 'monetaryvalue', 'ValueAsString': '1082.09'}, {'FeatureName': 'r', 'ValueAsString': '3'}, {'FeatureName': 'f', 'ValueAsString': '2'}, {'FeatureName': 'm', 'ValueAsString': '3'}, {'FeatureName': 'rfmscore', 'ValueAsString': '8'}, {'FeatureName': 'revenue6m', 'ValueAsString': '1666.1100000000001'}, {'FeatureName': 'ltvcluster', 'ValueAsString': '1'}, {'FeatureName': 'segmenthighvalue', 'ValueAsString': '1'}, {'FeatureName': 'segmentlowValue', 'ValueAsString': '0'}, {'FeatureName': 'segmentmidvalue', 'ValueAsString': '0'}, {'FeatureName': 'event_timestamp', 'ValueAsString': '1651455004.0'}]}\n"
          ]
        }
      ],
      "source": [
        "customer_id = 12747.0\n",
        "sg_runtime_client = sagemaker_session.boto_session.client('sagemaker-featurestore-runtime', region_name=region)\n",
        "record = sg_runtime_client.get_record(FeatureGroupName=\"customer-rfm-features\", RecordIdentifierValueAsString=str(customer_id))\n",
        "print(record)"
      ]
    },
    {
      "cell_type": "code",
      "execution_count": 79,
      "metadata": {
        "colab": {
          "base_uri": "https://localhost:8080/"
        },
        "id": "fIOByhPqa5fh",
        "outputId": "0b7e8d9a-86cb-4b0a-c922-36630c449ee1"
      },
      "outputs": [
        {
          "name": "stdout",
          "output_type": "stream",
          "text": [
            "SELECT *\n",
            "FROM\n",
            "    (SELECT *,\n",
            "         row_number()\n",
            "        OVER (PARTITION BY customerid\n",
            "    ORDER BY  event_timestamp desc, Api_Invocation_Time DESC, write_time DESC) AS row_num\n",
            "    FROM \"customer-rfm-features-1651455015\")\n",
            "WHERE row_num = 1 and \n",
            "NOT is_deleted;\n"
          ]
        }
      ],
      "source": [
        "get_latest_snapshot_query = customers_feature_group.athena_query()\n",
        "query = f\"\"\"SELECT *\n",
        "FROM\n",
        "    (SELECT *,\n",
        "         row_number()\n",
        "        OVER (PARTITION BY customerid\n",
        "    ORDER BY  event_timestamp desc, Api_Invocation_Time DESC, write_time DESC) AS row_num\n",
        "    FROM \"{get_latest_snapshot_query.table_name}\")\n",
        "WHERE row_num = 1 and \n",
        "NOT is_deleted;\"\"\"\n",
        "print(query)\n"
      ]
    },
    {
      "cell_type": "code",
      "execution_count": 76,
      "metadata": {
        "colab": {
          "base_uri": "https://localhost:8080/",
          "height": 35
        },
        "id": "RjYJczz_aa7H",
        "outputId": "bd45d8c3-7826-4f06-d292-1a007c652214"
      },
      "outputs": [
        {
          "data": {
            "application/vnd.google.colaboratory.intrinsic+json": {
              "type": "string"
            },
            "text/plain": [
              "'11501516-f345-4677-8aac-c15f79715ee5'"
            ]
          },
          "execution_count": 76,
          "metadata": {},
          "output_type": "execute_result"
        }
      ],
      "source": [
        "get_latest_snapshot_query.run(query_string=query, output_location=f\"s3://{s3_bucket_name}/output\")"
      ]
    },
    {
      "cell_type": "code",
      "execution_count": null,
      "metadata": {
        "id": "VvFgwyTO6V95"
      },
      "outputs": [],
      "source": [
        "get_latest_snapshot_query.get_query_execution()"
      ]
    },
    {
      "cell_type": "code",
      "execution_count": 78,
      "metadata": {
        "colab": {
          "base_uri": "https://localhost:8080/",
          "height": 357
        },
        "id": "CoXCY0iIdRqk",
        "outputId": "8edbdfc7-e336-40ad-b1f1-61d3e68e9cfe"
      },
      "outputs": [
        {
          "data": {
            "text/html": [
              "\n",
              "  <div id=\"df-bb9d7b08-b0c4-4a5e-80bd-b97528fa1b03\">\n",
              "    <div class=\"colab-df-container\">\n",
              "      <div>\n",
              "<style scoped>\n",
              "    .dataframe tbody tr th:only-of-type {\n",
              "        vertical-align: middle;\n",
              "    }\n",
              "\n",
              "    .dataframe tbody tr th {\n",
              "        vertical-align: top;\n",
              "    }\n",
              "\n",
              "    .dataframe thead th {\n",
              "        text-align: right;\n",
              "    }\n",
              "</style>\n",
              "<table border=\"1\" class=\"dataframe\">\n",
              "  <thead>\n",
              "    <tr style=\"text-align: right;\">\n",
              "      <th></th>\n",
              "      <th>customerid</th>\n",
              "      <th>recency</th>\n",
              "      <th>frequency</th>\n",
              "      <th>monetaryvalue</th>\n",
              "      <th>r</th>\n",
              "      <th>f</th>\n",
              "      <th>m</th>\n",
              "      <th>rfmscore</th>\n",
              "      <th>revenue6m</th>\n",
              "      <th>ltvcluster</th>\n",
              "      <th>segmenthighvalue</th>\n",
              "      <th>segmentlowvalue</th>\n",
              "      <th>segmentmidvalue</th>\n",
              "      <th>event_timestamp</th>\n",
              "      <th>write_time</th>\n",
              "      <th>api_invocation_time</th>\n",
              "      <th>is_deleted</th>\n",
              "      <th>row_num</th>\n",
              "    </tr>\n",
              "  </thead>\n",
              "  <tbody>\n",
              "    <tr>\n",
              "      <th>0</th>\n",
              "      <td>12747.0</td>\n",
              "      <td>7</td>\n",
              "      <td>35</td>\n",
              "      <td>1082.09</td>\n",
              "      <td>3</td>\n",
              "      <td>2</td>\n",
              "      <td>3</td>\n",
              "      <td>8</td>\n",
              "      <td>1666.11</td>\n",
              "      <td>1</td>\n",
              "      <td>1</td>\n",
              "      <td>0</td>\n",
              "      <td>0</td>\n",
              "      <td>1.651455e+09</td>\n",
              "      <td>2022-05-02 01:36:31.398</td>\n",
              "      <td>2022-05-02 01:31:59.000</td>\n",
              "      <td>False</td>\n",
              "      <td>1</td>\n",
              "    </tr>\n",
              "    <tr>\n",
              "      <th>1</th>\n",
              "      <td>12823.0</td>\n",
              "      <td>63</td>\n",
              "      <td>1</td>\n",
              "      <td>459.00</td>\n",
              "      <td>0</td>\n",
              "      <td>0</td>\n",
              "      <td>2</td>\n",
              "      <td>2</td>\n",
              "      <td>765.00</td>\n",
              "      <td>1</td>\n",
              "      <td>0</td>\n",
              "      <td>1</td>\n",
              "      <td>0</td>\n",
              "      <td>1.651455e+09</td>\n",
              "      <td>2022-05-02 01:36:31.406</td>\n",
              "      <td>2022-05-02 01:32:00.000</td>\n",
              "      <td>False</td>\n",
              "      <td>1</td>\n",
              "    </tr>\n",
              "    <tr>\n",
              "      <th>2</th>\n",
              "      <td>12836.0</td>\n",
              "      <td>28</td>\n",
              "      <td>62</td>\n",
              "      <td>814.71</td>\n",
              "      <td>1</td>\n",
              "      <td>3</td>\n",
              "      <td>3</td>\n",
              "      <td>7</td>\n",
              "      <td>951.46</td>\n",
              "      <td>1</td>\n",
              "      <td>1</td>\n",
              "      <td>0</td>\n",
              "      <td>0</td>\n",
              "      <td>1.651455e+09</td>\n",
              "      <td>2022-05-02 01:36:31.391</td>\n",
              "      <td>2022-05-02 01:32:00.000</td>\n",
              "      <td>False</td>\n",
              "      <td>1</td>\n",
              "    </tr>\n",
              "    <tr>\n",
              "      <th>3</th>\n",
              "      <td>12748.0</td>\n",
              "      <td>1</td>\n",
              "      <td>582</td>\n",
              "      <td>4336.73</td>\n",
              "      <td>3</td>\n",
              "      <td>3</td>\n",
              "      <td>3</td>\n",
              "      <td>9</td>\n",
              "      <td>18679.01</td>\n",
              "      <td>2</td>\n",
              "      <td>1</td>\n",
              "      <td>0</td>\n",
              "      <td>0</td>\n",
              "      <td>1.651455e+09</td>\n",
              "      <td>2022-05-02 01:36:31.400</td>\n",
              "      <td>2022-05-02 01:31:59.000</td>\n",
              "      <td>False</td>\n",
              "      <td>1</td>\n",
              "    </tr>\n",
              "    <tr>\n",
              "      <th>4</th>\n",
              "      <td>12749.0</td>\n",
              "      <td>8</td>\n",
              "      <td>54</td>\n",
              "      <td>782.10</td>\n",
              "      <td>3</td>\n",
              "      <td>3</td>\n",
              "      <td>3</td>\n",
              "      <td>9</td>\n",
              "      <td>2323.04</td>\n",
              "      <td>1</td>\n",
              "      <td>1</td>\n",
              "      <td>0</td>\n",
              "      <td>0</td>\n",
              "      <td>1.651455e+09</td>\n",
              "      <td>2022-05-02 01:36:31.397</td>\n",
              "      <td>2022-05-02 01:32:00.000</td>\n",
              "      <td>False</td>\n",
              "      <td>1</td>\n",
              "    </tr>\n",
              "  </tbody>\n",
              "</table>\n",
              "</div>\n",
              "      <button class=\"colab-df-convert\" onclick=\"convertToInteractive('df-bb9d7b08-b0c4-4a5e-80bd-b97528fa1b03')\"\n",
              "              title=\"Convert this dataframe to an interactive table.\"\n",
              "              style=\"display:none;\">\n",
              "        \n",
              "  <svg xmlns=\"http://www.w3.org/2000/svg\" height=\"24px\"viewBox=\"0 0 24 24\"\n",
              "       width=\"24px\">\n",
              "    <path d=\"M0 0h24v24H0V0z\" fill=\"none\"/>\n",
              "    <path d=\"M18.56 5.44l.94 2.06.94-2.06 2.06-.94-2.06-.94-.94-2.06-.94 2.06-2.06.94zm-11 1L8.5 8.5l.94-2.06 2.06-.94-2.06-.94L8.5 2.5l-.94 2.06-2.06.94zm10 10l.94 2.06.94-2.06 2.06-.94-2.06-.94-.94-2.06-.94 2.06-2.06.94z\"/><path d=\"M17.41 7.96l-1.37-1.37c-.4-.4-.92-.59-1.43-.59-.52 0-1.04.2-1.43.59L10.3 9.45l-7.72 7.72c-.78.78-.78 2.05 0 2.83L4 21.41c.39.39.9.59 1.41.59.51 0 1.02-.2 1.41-.59l7.78-7.78 2.81-2.81c.8-.78.8-2.07 0-2.86zM5.41 20L4 18.59l7.72-7.72 1.47 1.35L5.41 20z\"/>\n",
              "  </svg>\n",
              "      </button>\n",
              "      \n",
              "  <style>\n",
              "    .colab-df-container {\n",
              "      display:flex;\n",
              "      flex-wrap:wrap;\n",
              "      gap: 12px;\n",
              "    }\n",
              "\n",
              "    .colab-df-convert {\n",
              "      background-color: #E8F0FE;\n",
              "      border: none;\n",
              "      border-radius: 50%;\n",
              "      cursor: pointer;\n",
              "      display: none;\n",
              "      fill: #1967D2;\n",
              "      height: 32px;\n",
              "      padding: 0 0 0 0;\n",
              "      width: 32px;\n",
              "    }\n",
              "\n",
              "    .colab-df-convert:hover {\n",
              "      background-color: #E2EBFA;\n",
              "      box-shadow: 0px 1px 2px rgba(60, 64, 67, 0.3), 0px 1px 3px 1px rgba(60, 64, 67, 0.15);\n",
              "      fill: #174EA6;\n",
              "    }\n",
              "\n",
              "    [theme=dark] .colab-df-convert {\n",
              "      background-color: #3B4455;\n",
              "      fill: #D2E3FC;\n",
              "    }\n",
              "\n",
              "    [theme=dark] .colab-df-convert:hover {\n",
              "      background-color: #434B5C;\n",
              "      box-shadow: 0px 1px 3px 1px rgba(0, 0, 0, 0.15);\n",
              "      filter: drop-shadow(0px 1px 2px rgba(0, 0, 0, 0.3));\n",
              "      fill: #FFFFFF;\n",
              "    }\n",
              "  </style>\n",
              "\n",
              "      <script>\n",
              "        const buttonEl =\n",
              "          document.querySelector('#df-bb9d7b08-b0c4-4a5e-80bd-b97528fa1b03 button.colab-df-convert');\n",
              "        buttonEl.style.display =\n",
              "          google.colab.kernel.accessAllowed ? 'block' : 'none';\n",
              "\n",
              "        async function convertToInteractive(key) {\n",
              "          const element = document.querySelector('#df-bb9d7b08-b0c4-4a5e-80bd-b97528fa1b03');\n",
              "          const dataTable =\n",
              "            await google.colab.kernel.invokeFunction('convertToInteractive',\n",
              "                                                     [key], {});\n",
              "          if (!dataTable) return;\n",
              "\n",
              "          const docLinkHtml = 'Like what you see? Visit the ' +\n",
              "            '<a target=\"_blank\" href=https://colab.research.google.com/notebooks/data_table.ipynb>data table notebook</a>'\n",
              "            + ' to learn more about interactive tables.';\n",
              "          element.innerHTML = '';\n",
              "          dataTable['output_type'] = 'display_data';\n",
              "          await google.colab.output.renderOutput(dataTable, element);\n",
              "          const docLink = document.createElement('div');\n",
              "          docLink.innerHTML = docLinkHtml;\n",
              "          element.appendChild(docLink);\n",
              "        }\n",
              "      </script>\n",
              "    </div>\n",
              "  </div>\n",
              "  "
            ],
            "text/plain": [
              "   customerid  recency  frequency  monetaryvalue  r  f  m  rfmscore  \\\n",
              "0     12747.0        7         35        1082.09  3  2  3         8   \n",
              "1     12823.0       63          1         459.00  0  0  2         2   \n",
              "2     12836.0       28         62         814.71  1  3  3         7   \n",
              "3     12748.0        1        582        4336.73  3  3  3         9   \n",
              "4     12749.0        8         54         782.10  3  3  3         9   \n",
              "\n",
              "   revenue6m  ltvcluster  segmenthighvalue  segmentlowvalue  segmentmidvalue  \\\n",
              "0    1666.11           1                 1                0                0   \n",
              "1     765.00           1                 0                1                0   \n",
              "2     951.46           1                 1                0                0   \n",
              "3   18679.01           2                 1                0                0   \n",
              "4    2323.04           1                 1                0                0   \n",
              "\n",
              "   event_timestamp               write_time      api_invocation_time  \\\n",
              "0     1.651455e+09  2022-05-02 01:36:31.398  2022-05-02 01:31:59.000   \n",
              "1     1.651455e+09  2022-05-02 01:36:31.406  2022-05-02 01:32:00.000   \n",
              "2     1.651455e+09  2022-05-02 01:36:31.391  2022-05-02 01:32:00.000   \n",
              "3     1.651455e+09  2022-05-02 01:36:31.400  2022-05-02 01:31:59.000   \n",
              "4     1.651455e+09  2022-05-02 01:36:31.397  2022-05-02 01:32:00.000   \n",
              "\n",
              "   is_deleted  row_num  \n",
              "0       False        1  \n",
              "1       False        1  \n",
              "2       False        1  \n",
              "3       False        1  \n",
              "4       False        1  "
            ]
          },
          "execution_count": 78,
          "metadata": {},
          "output_type": "execute_result"
        }
      ],
      "source": [
        "latest_df = get_latest_snapshot_query.as_dataframe()\n",
        "latest_df.head()"
      ]
    },
    {
      "cell_type": "code",
      "execution_count": null,
      "metadata": {
        "id": "jkgGexo91PXI"
      },
      "outputs": [],
      "source": [
        "customers_feature_group.describe()"
      ]
    },
    {
      "cell_type": "code",
      "execution_count": 82,
      "metadata": {
        "id": "hi0iyNmD1QQR"
      },
      "outputs": [],
      "source": [
        "customers_feature_group.delete()"
      ]
    },
    {
      "cell_type": "code",
      "execution_count": 84,
      "metadata": {
        "id": "gTAHlsLO1UVP"
      },
      "outputs": [],
      "source": [
        "sagemaker_client = sagemaker_session.boto_session.client(\n",
        "    \"sagemaker\", region_name=region\n",
        ") "
      ]
    },
    {
      "cell_type": "code",
      "execution_count": 85,
      "metadata": {
        "colab": {
          "base_uri": "https://localhost:8080/"
        },
        "id": "j_y3ydWv1blE",
        "outputId": "5df2d52a-fc5c-4929-dbce-7540b7aadc08"
      },
      "outputs": [
        {
          "data": {
            "text/plain": [
              "{'FeatureGroupSummaries': [],\n",
              " 'ResponseMetadata': {'HTTPHeaders': {'content-length': '28',\n",
              "   'content-type': 'application/x-amz-json-1.1',\n",
              "   'date': 'Mon, 02 May 2022 03:35:22 GMT',\n",
              "   'x-amzn-requestid': '0c4167ca-83ea-462d-8059-723b80ae7941'},\n",
              "  'HTTPStatusCode': 200,\n",
              "  'RequestId': '0c4167ca-83ea-462d-8059-723b80ae7941',\n",
              "  'RetryAttempts': 0}}"
            ]
          },
          "execution_count": 85,
          "metadata": {},
          "output_type": "execute_result"
        }
      ],
      "source": [
        "sagemaker_client.list_feature_groups()"
      ]
    }
  ],
  "metadata": {
    "colab": {
      "collapsed_sections": [],
      "name": "ch7-sagemaker-feature-store.ipynb",
      "provenance": []
    },
    "kernelspec": {
      "display_name": "Python 3",
      "name": "python3"
    },
    "language_info": {
      "name": "python"
    }
  },
  "nbformat": 4,
  "nbformat_minor": 0
}
