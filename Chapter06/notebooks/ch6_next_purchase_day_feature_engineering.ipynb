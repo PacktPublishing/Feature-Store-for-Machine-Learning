{
  "nbformat": 4,
  "nbformat_minor": 0,
  "metadata": {
    "colab": {
      "name": "ch6-NBD.ipynb",
      "provenance": []
    },
    "kernelspec": {
      "name": "python3",
      "display_name": "Python 3"
    },
    "language_info": {
      "name": "python"
    }
  },
  "cells": [
    {
      "cell_type": "code",
      "source": [
        "!pip install pandas"
      ],
      "metadata": {
        "id": "Wz8GhVln3j_c"
      },
      "execution_count": null,
      "outputs": []
    },
    {
      "cell_type": "code",
      "execution_count": 20,
      "metadata": {
        "id": "bYqX0V_Gvji1"
      },
      "outputs": [],
      "source": [
        "import pandas as pd\n",
        "from datetime import datetime, timedelta, date\n",
        "from sklearn.cluster import KMeans\n",
        "\n",
        "##Read the data and filter out data that belongs to country other than UK\n",
        "retail_data = pd.read_csv('OnlineRetail.csv', encoding= 'unicode_escape')\n",
        "retail_data['InvoiceDate'] = pd.to_datetime(retail_data['InvoiceDate'], errors = 'coerce')\n",
        "uk_data = retail_data.query(\"Country=='United Kingdom'\").reset_index(drop=True)"
      ]
    },
    {
      "cell_type": "code",
      "source": [
        "t1 = pd.Timestamp(\"2011-09-01 00:00:00.054000\")\n",
        "t2 = pd.Timestamp(\"2011-03-01 00:00:00.054000\")\n",
        "t3 = pd.Timestamp(\"2011-12-01 00:00:00.054000\")\n",
        "uk_data_6m = uk_data[(uk_data.InvoiceDate < t1) & (uk_data.InvoiceDate >= t2)].reset_index(drop=True)\n",
        "uk_data_next = uk_data[(uk_data.InvoiceDate >= t1) & (uk_data.InvoiceDate < t3)].reset_index(drop=True)"
      ],
      "metadata": {
        "id": "i-rpSsV61JvS"
      },
      "execution_count": 21,
      "outputs": []
    },
    {
      "cell_type": "code",
      "source": [
        "uk_day_order = uk_data_6m[['CustomerID','InvoiceDate']]#convert Invoice Datetime to day\n",
        "uk_day_order['InvoiceDay'] = uk_data_6m['InvoiceDate'].dt.date\n",
        "uk_day_order = uk_day_order.sort_values(['CustomerID','InvoiceDate'])#drop duplicates\n",
        "uk_day_order = uk_day_order.drop_duplicates(subset=['CustomerID','InvoiceDay'],keep='first')"
      ],
      "metadata": {
        "colab": {
          "base_uri": "https://localhost:8080/"
        },
        "id": "4MVscfQX2LgF",
        "outputId": "f1755b55-05a3-4c86-f60e-74c30b5e7a97"
      },
      "execution_count": 22,
      "outputs": [
        {
          "output_type": "stream",
          "name": "stderr",
          "text": [
            "/usr/local/lib/python3.7/dist-packages/ipykernel_launcher.py:2: SettingWithCopyWarning: \n",
            "A value is trying to be set on a copy of a slice from a DataFrame.\n",
            "Try using .loc[row_indexer,col_indexer] = value instead\n",
            "\n",
            "See the caveats in the documentation: https://pandas.pydata.org/pandas-docs/stable/user_guide/indexing.html#returning-a-view-versus-a-copy\n",
            "  \n"
          ]
        }
      ]
    },
    {
      "cell_type": "code",
      "source": [
        "uk_day_order['PrevInvoiceDate'] = uk_day_order.groupby('CustomerID')['InvoiceDay'].shift(1)\n",
        "uk_day_order['T2InvoiceDate'] = uk_day_order.groupby('CustomerID')['InvoiceDay'].shift(2)\n",
        "uk_day_order['T3InvoiceDate'] = uk_day_order.groupby('CustomerID')['InvoiceDay'].shift(3)"
      ],
      "metadata": {
        "id": "eLOnV_cr2osT"
      },
      "execution_count": 23,
      "outputs": []
    },
    {
      "cell_type": "code",
      "source": [
        "uk_day_order.head()"
      ],
      "metadata": {
        "colab": {
          "base_uri": "https://localhost:8080/",
          "height": 206
        },
        "id": "_zxZmhzD2uCs",
        "outputId": "c4bcac75-a9ca-4b2f-8195-ae3e578f2e27"
      },
      "execution_count": 24,
      "outputs": [
        {
          "output_type": "execute_result",
          "data": {
            "text/plain": [
              "        CustomerID         InvoiceDate  InvoiceDay PrevInvoiceDate  \\\n",
              "649        12747.0 2011-03-01 14:53:00  2011-03-01             NaN   \n",
              "65091      12747.0 2011-05-05 15:31:00  2011-05-05      2011-03-01   \n",
              "90473      12747.0 2011-05-25 09:57:00  2011-05-25      2011-05-05   \n",
              "124699     12747.0 2011-06-28 10:06:00  2011-06-28      2011-05-25   \n",
              "184410     12747.0 2011-08-22 10:38:00  2011-08-22      2011-06-28   \n",
              "\n",
              "       T2InvoiceDate T3InvoiceDate  \n",
              "649              NaN           NaN  \n",
              "65091            NaN           NaN  \n",
              "90473     2011-03-01           NaN  \n",
              "124699    2011-05-05    2011-03-01  \n",
              "184410    2011-05-25    2011-05-05  "
            ],
            "text/html": [
              "\n",
              "  <div id=\"df-d7549a7c-7f32-46ea-b1cd-4041007d064a\">\n",
              "    <div class=\"colab-df-container\">\n",
              "      <div>\n",
              "<style scoped>\n",
              "    .dataframe tbody tr th:only-of-type {\n",
              "        vertical-align: middle;\n",
              "    }\n",
              "\n",
              "    .dataframe tbody tr th {\n",
              "        vertical-align: top;\n",
              "    }\n",
              "\n",
              "    .dataframe thead th {\n",
              "        text-align: right;\n",
              "    }\n",
              "</style>\n",
              "<table border=\"1\" class=\"dataframe\">\n",
              "  <thead>\n",
              "    <tr style=\"text-align: right;\">\n",
              "      <th></th>\n",
              "      <th>CustomerID</th>\n",
              "      <th>InvoiceDate</th>\n",
              "      <th>InvoiceDay</th>\n",
              "      <th>PrevInvoiceDate</th>\n",
              "      <th>T2InvoiceDate</th>\n",
              "      <th>T3InvoiceDate</th>\n",
              "    </tr>\n",
              "  </thead>\n",
              "  <tbody>\n",
              "    <tr>\n",
              "      <th>649</th>\n",
              "      <td>12747.0</td>\n",
              "      <td>2011-03-01 14:53:00</td>\n",
              "      <td>2011-03-01</td>\n",
              "      <td>NaN</td>\n",
              "      <td>NaN</td>\n",
              "      <td>NaN</td>\n",
              "    </tr>\n",
              "    <tr>\n",
              "      <th>65091</th>\n",
              "      <td>12747.0</td>\n",
              "      <td>2011-05-05 15:31:00</td>\n",
              "      <td>2011-05-05</td>\n",
              "      <td>2011-03-01</td>\n",
              "      <td>NaN</td>\n",
              "      <td>NaN</td>\n",
              "    </tr>\n",
              "    <tr>\n",
              "      <th>90473</th>\n",
              "      <td>12747.0</td>\n",
              "      <td>2011-05-25 09:57:00</td>\n",
              "      <td>2011-05-25</td>\n",
              "      <td>2011-05-05</td>\n",
              "      <td>2011-03-01</td>\n",
              "      <td>NaN</td>\n",
              "    </tr>\n",
              "    <tr>\n",
              "      <th>124699</th>\n",
              "      <td>12747.0</td>\n",
              "      <td>2011-06-28 10:06:00</td>\n",
              "      <td>2011-06-28</td>\n",
              "      <td>2011-05-25</td>\n",
              "      <td>2011-05-05</td>\n",
              "      <td>2011-03-01</td>\n",
              "    </tr>\n",
              "    <tr>\n",
              "      <th>184410</th>\n",
              "      <td>12747.0</td>\n",
              "      <td>2011-08-22 10:38:00</td>\n",
              "      <td>2011-08-22</td>\n",
              "      <td>2011-06-28</td>\n",
              "      <td>2011-05-25</td>\n",
              "      <td>2011-05-05</td>\n",
              "    </tr>\n",
              "  </tbody>\n",
              "</table>\n",
              "</div>\n",
              "      <button class=\"colab-df-convert\" onclick=\"convertToInteractive('df-d7549a7c-7f32-46ea-b1cd-4041007d064a')\"\n",
              "              title=\"Convert this dataframe to an interactive table.\"\n",
              "              style=\"display:none;\">\n",
              "        \n",
              "  <svg xmlns=\"http://www.w3.org/2000/svg\" height=\"24px\"viewBox=\"0 0 24 24\"\n",
              "       width=\"24px\">\n",
              "    <path d=\"M0 0h24v24H0V0z\" fill=\"none\"/>\n",
              "    <path d=\"M18.56 5.44l.94 2.06.94-2.06 2.06-.94-2.06-.94-.94-2.06-.94 2.06-2.06.94zm-11 1L8.5 8.5l.94-2.06 2.06-.94-2.06-.94L8.5 2.5l-.94 2.06-2.06.94zm10 10l.94 2.06.94-2.06 2.06-.94-2.06-.94-.94-2.06-.94 2.06-2.06.94z\"/><path d=\"M17.41 7.96l-1.37-1.37c-.4-.4-.92-.59-1.43-.59-.52 0-1.04.2-1.43.59L10.3 9.45l-7.72 7.72c-.78.78-.78 2.05 0 2.83L4 21.41c.39.39.9.59 1.41.59.51 0 1.02-.2 1.41-.59l7.78-7.78 2.81-2.81c.8-.78.8-2.07 0-2.86zM5.41 20L4 18.59l7.72-7.72 1.47 1.35L5.41 20z\"/>\n",
              "  </svg>\n",
              "      </button>\n",
              "      \n",
              "  <style>\n",
              "    .colab-df-container {\n",
              "      display:flex;\n",
              "      flex-wrap:wrap;\n",
              "      gap: 12px;\n",
              "    }\n",
              "\n",
              "    .colab-df-convert {\n",
              "      background-color: #E8F0FE;\n",
              "      border: none;\n",
              "      border-radius: 50%;\n",
              "      cursor: pointer;\n",
              "      display: none;\n",
              "      fill: #1967D2;\n",
              "      height: 32px;\n",
              "      padding: 0 0 0 0;\n",
              "      width: 32px;\n",
              "    }\n",
              "\n",
              "    .colab-df-convert:hover {\n",
              "      background-color: #E2EBFA;\n",
              "      box-shadow: 0px 1px 2px rgba(60, 64, 67, 0.3), 0px 1px 3px 1px rgba(60, 64, 67, 0.15);\n",
              "      fill: #174EA6;\n",
              "    }\n",
              "\n",
              "    [theme=dark] .colab-df-convert {\n",
              "      background-color: #3B4455;\n",
              "      fill: #D2E3FC;\n",
              "    }\n",
              "\n",
              "    [theme=dark] .colab-df-convert:hover {\n",
              "      background-color: #434B5C;\n",
              "      box-shadow: 0px 1px 3px 1px rgba(0, 0, 0, 0.15);\n",
              "      filter: drop-shadow(0px 1px 2px rgba(0, 0, 0, 0.3));\n",
              "      fill: #FFFFFF;\n",
              "    }\n",
              "  </style>\n",
              "\n",
              "      <script>\n",
              "        const buttonEl =\n",
              "          document.querySelector('#df-d7549a7c-7f32-46ea-b1cd-4041007d064a button.colab-df-convert');\n",
              "        buttonEl.style.display =\n",
              "          google.colab.kernel.accessAllowed ? 'block' : 'none';\n",
              "\n",
              "        async function convertToInteractive(key) {\n",
              "          const element = document.querySelector('#df-d7549a7c-7f32-46ea-b1cd-4041007d064a');\n",
              "          const dataTable =\n",
              "            await google.colab.kernel.invokeFunction('convertToInteractive',\n",
              "                                                     [key], {});\n",
              "          if (!dataTable) return;\n",
              "\n",
              "          const docLinkHtml = 'Like what you see? Visit the ' +\n",
              "            '<a target=\"_blank\" href=https://colab.research.google.com/notebooks/data_table.ipynb>data table notebook</a>'\n",
              "            + ' to learn more about interactive tables.';\n",
              "          element.innerHTML = '';\n",
              "          dataTable['output_type'] = 'display_data';\n",
              "          await google.colab.output.renderOutput(dataTable, element);\n",
              "          const docLink = document.createElement('div');\n",
              "          docLink.innerHTML = docLinkHtml;\n",
              "          element.appendChild(docLink);\n",
              "        }\n",
              "      </script>\n",
              "    </div>\n",
              "  </div>\n",
              "  "
            ]
          },
          "metadata": {},
          "execution_count": 24
        }
      ]
    },
    {
      "cell_type": "code",
      "source": [
        "uk_day_order['DayDiff'] = (uk_day_order['InvoiceDay'] - uk_day_order['PrevInvoiceDate']).dt.days\n",
        "uk_day_order['DayDiff2'] = (uk_day_order['InvoiceDay'] - uk_day_order['T2InvoiceDate']).dt.days\n",
        "uk_day_order['DayDiff3'] = (uk_day_order['InvoiceDay'] - uk_day_order['T3InvoiceDate']).dt.days"
      ],
      "metadata": {
        "id": "5Vcxj1Wq2zPl"
      },
      "execution_count": 25,
      "outputs": []
    },
    {
      "cell_type": "code",
      "source": [
        "uk_day_diff = uk_day_order.groupby('CustomerID').agg({'DayDiff': ['mean','std']}).reset_index()\n",
        "uk_day_diff.columns = ['CustomerID', 'DayDiffMean','DayDiffStd']"
      ],
      "metadata": {
        "id": "ZrruAORf3A-Z"
      },
      "execution_count": 26,
      "outputs": []
    },
    {
      "cell_type": "code",
      "source": [
        "uk_day_order_last = uk_day_order.drop_duplicates(subset=['CustomerID'],keep='last')"
      ],
      "metadata": {
        "id": "s-445FbE3Hri"
      },
      "execution_count": 27,
      "outputs": []
    },
    {
      "cell_type": "code",
      "source": [
        "uk_day_order_last = uk_day_order_last.dropna()\n",
        "uk_day_order_last = pd.merge(uk_day_order_last, uk_day_diff, on='CustomerID')\n",
        "uk_day_order_last = uk_day_order_last[['CustomerID','DayDiff','DayDiff2','DayDiff3','DayDiffMean','DayDiffStd']]\n",
        "uk_day_order_last.columns = ['customerid','daydiff','daydiff2','daydiff3','daydiffmean','daydiffstd']"
      ],
      "metadata": {
        "id": "ttR-eFKh3Nwg"
      },
      "execution_count": 28,
      "outputs": []
    },
    {
      "cell_type": "code",
      "source": [
        "uk_day_order_last.head()"
      ],
      "metadata": {
        "colab": {
          "base_uri": "https://localhost:8080/",
          "height": 206
        },
        "id": "JNaNCr1v3W6f",
        "outputId": "678c6284-0bb4-493e-b365-921291bf91ce"
      },
      "execution_count": 29,
      "outputs": [
        {
          "output_type": "execute_result",
          "data": {
            "text/plain": [
              "   customerid  daydiff  daydiff2  daydiff3  daydiffmean  daydiffstd\n",
              "0     12747.0     55.0      89.0     109.0    43.500000   20.305993\n",
              "1     12748.0      5.0       6.0      13.0     3.723404    3.083632\n",
              "2     12749.0      7.0      17.0      87.0    25.000000   30.099834\n",
              "3     12830.0      7.0      22.0      37.0    12.333333    4.618802\n",
              "4     12839.0     20.0      44.0      70.0    32.800000   26.166773"
            ],
            "text/html": [
              "\n",
              "  <div id=\"df-7f2ecbea-addd-4bf5-8204-cc913ee6fdac\">\n",
              "    <div class=\"colab-df-container\">\n",
              "      <div>\n",
              "<style scoped>\n",
              "    .dataframe tbody tr th:only-of-type {\n",
              "        vertical-align: middle;\n",
              "    }\n",
              "\n",
              "    .dataframe tbody tr th {\n",
              "        vertical-align: top;\n",
              "    }\n",
              "\n",
              "    .dataframe thead th {\n",
              "        text-align: right;\n",
              "    }\n",
              "</style>\n",
              "<table border=\"1\" class=\"dataframe\">\n",
              "  <thead>\n",
              "    <tr style=\"text-align: right;\">\n",
              "      <th></th>\n",
              "      <th>customerid</th>\n",
              "      <th>daydiff</th>\n",
              "      <th>daydiff2</th>\n",
              "      <th>daydiff3</th>\n",
              "      <th>daydiffmean</th>\n",
              "      <th>daydiffstd</th>\n",
              "    </tr>\n",
              "  </thead>\n",
              "  <tbody>\n",
              "    <tr>\n",
              "      <th>0</th>\n",
              "      <td>12747.0</td>\n",
              "      <td>55.0</td>\n",
              "      <td>89.0</td>\n",
              "      <td>109.0</td>\n",
              "      <td>43.500000</td>\n",
              "      <td>20.305993</td>\n",
              "    </tr>\n",
              "    <tr>\n",
              "      <th>1</th>\n",
              "      <td>12748.0</td>\n",
              "      <td>5.0</td>\n",
              "      <td>6.0</td>\n",
              "      <td>13.0</td>\n",
              "      <td>3.723404</td>\n",
              "      <td>3.083632</td>\n",
              "    </tr>\n",
              "    <tr>\n",
              "      <th>2</th>\n",
              "      <td>12749.0</td>\n",
              "      <td>7.0</td>\n",
              "      <td>17.0</td>\n",
              "      <td>87.0</td>\n",
              "      <td>25.000000</td>\n",
              "      <td>30.099834</td>\n",
              "    </tr>\n",
              "    <tr>\n",
              "      <th>3</th>\n",
              "      <td>12830.0</td>\n",
              "      <td>7.0</td>\n",
              "      <td>22.0</td>\n",
              "      <td>37.0</td>\n",
              "      <td>12.333333</td>\n",
              "      <td>4.618802</td>\n",
              "    </tr>\n",
              "    <tr>\n",
              "      <th>4</th>\n",
              "      <td>12839.0</td>\n",
              "      <td>20.0</td>\n",
              "      <td>44.0</td>\n",
              "      <td>70.0</td>\n",
              "      <td>32.800000</td>\n",
              "      <td>26.166773</td>\n",
              "    </tr>\n",
              "  </tbody>\n",
              "</table>\n",
              "</div>\n",
              "      <button class=\"colab-df-convert\" onclick=\"convertToInteractive('df-7f2ecbea-addd-4bf5-8204-cc913ee6fdac')\"\n",
              "              title=\"Convert this dataframe to an interactive table.\"\n",
              "              style=\"display:none;\">\n",
              "        \n",
              "  <svg xmlns=\"http://www.w3.org/2000/svg\" height=\"24px\"viewBox=\"0 0 24 24\"\n",
              "       width=\"24px\">\n",
              "    <path d=\"M0 0h24v24H0V0z\" fill=\"none\"/>\n",
              "    <path d=\"M18.56 5.44l.94 2.06.94-2.06 2.06-.94-2.06-.94-.94-2.06-.94 2.06-2.06.94zm-11 1L8.5 8.5l.94-2.06 2.06-.94-2.06-.94L8.5 2.5l-.94 2.06-2.06.94zm10 10l.94 2.06.94-2.06 2.06-.94-2.06-.94-.94-2.06-.94 2.06-2.06.94z\"/><path d=\"M17.41 7.96l-1.37-1.37c-.4-.4-.92-.59-1.43-.59-.52 0-1.04.2-1.43.59L10.3 9.45l-7.72 7.72c-.78.78-.78 2.05 0 2.83L4 21.41c.39.39.9.59 1.41.59.51 0 1.02-.2 1.41-.59l7.78-7.78 2.81-2.81c.8-.78.8-2.07 0-2.86zM5.41 20L4 18.59l7.72-7.72 1.47 1.35L5.41 20z\"/>\n",
              "  </svg>\n",
              "      </button>\n",
              "      \n",
              "  <style>\n",
              "    .colab-df-container {\n",
              "      display:flex;\n",
              "      flex-wrap:wrap;\n",
              "      gap: 12px;\n",
              "    }\n",
              "\n",
              "    .colab-df-convert {\n",
              "      background-color: #E8F0FE;\n",
              "      border: none;\n",
              "      border-radius: 50%;\n",
              "      cursor: pointer;\n",
              "      display: none;\n",
              "      fill: #1967D2;\n",
              "      height: 32px;\n",
              "      padding: 0 0 0 0;\n",
              "      width: 32px;\n",
              "    }\n",
              "\n",
              "    .colab-df-convert:hover {\n",
              "      background-color: #E2EBFA;\n",
              "      box-shadow: 0px 1px 2px rgba(60, 64, 67, 0.3), 0px 1px 3px 1px rgba(60, 64, 67, 0.15);\n",
              "      fill: #174EA6;\n",
              "    }\n",
              "\n",
              "    [theme=dark] .colab-df-convert {\n",
              "      background-color: #3B4455;\n",
              "      fill: #D2E3FC;\n",
              "    }\n",
              "\n",
              "    [theme=dark] .colab-df-convert:hover {\n",
              "      background-color: #434B5C;\n",
              "      box-shadow: 0px 1px 3px 1px rgba(0, 0, 0, 0.15);\n",
              "      filter: drop-shadow(0px 1px 2px rgba(0, 0, 0, 0.3));\n",
              "      fill: #FFFFFF;\n",
              "    }\n",
              "  </style>\n",
              "\n",
              "      <script>\n",
              "        const buttonEl =\n",
              "          document.querySelector('#df-7f2ecbea-addd-4bf5-8204-cc913ee6fdac button.colab-df-convert');\n",
              "        buttonEl.style.display =\n",
              "          google.colab.kernel.accessAllowed ? 'block' : 'none';\n",
              "\n",
              "        async function convertToInteractive(key) {\n",
              "          const element = document.querySelector('#df-7f2ecbea-addd-4bf5-8204-cc913ee6fdac');\n",
              "          const dataTable =\n",
              "            await google.colab.kernel.invokeFunction('convertToInteractive',\n",
              "                                                     [key], {});\n",
              "          if (!dataTable) return;\n",
              "\n",
              "          const docLinkHtml = 'Like what you see? Visit the ' +\n",
              "            '<a target=\"_blank\" href=https://colab.research.google.com/notebooks/data_table.ipynb>data table notebook</a>'\n",
              "            + ' to learn more about interactive tables.';\n",
              "          element.innerHTML = '';\n",
              "          dataTable['output_type'] = 'display_data';\n",
              "          await google.colab.output.renderOutput(dataTable, element);\n",
              "          const docLink = document.createElement('div');\n",
              "          docLink.innerHTML = docLinkHtml;\n",
              "          element.appendChild(docLink);\n",
              "        }\n",
              "      </script>\n",
              "    </div>\n",
              "  </div>\n",
              "  "
            ]
          },
          "metadata": {},
          "execution_count": 29
        }
      ]
    }
  ]
}