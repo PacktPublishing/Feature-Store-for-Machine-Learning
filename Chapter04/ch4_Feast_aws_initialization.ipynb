{
  "nbformat": 4,
  "nbformat_minor": 0,
  "metadata": {
    "colab": {
      "name": "ch4-Feast-aws-initialization.ipynb",
      "provenance": [],
      "collapsed_sections": []
    },
    "kernelspec": {
      "name": "python3",
      "display_name": "Python 3"
    },
    "language_info": {
      "name": "python"
    }
  },
  "cells": [
    {
      "cell_type": "code",
      "execution_count": 2,
      "metadata": {
        "colab": {
          "base_uri": "https://localhost:8080/",
          "height": 1000
        },
        "id": "xupONShN6OJi",
        "outputId": "69d27665-0902-48af-809b-e99f0676bd74"
      },
      "outputs": [
        {
          "output_type": "stream",
          "name": "stdout",
          "text": [
            "Collecting feast[aws]\n",
            "  Downloading feast-0.19.3-py3-none-any.whl (289 kB)\n",
            "\u001b[K     |████████████████████████████████| 289 kB 33.3 MB/s \n",
            "\u001b[?25hRequirement already satisfied: grpcio>=1.34.0 in /usr/local/lib/python3.7/dist-packages (from feast[aws]) (1.44.0)\n",
            "Collecting dask<2022.02.0,>=2021.*\n",
            "  Downloading dask-2022.1.1-py3-none-any.whl (1.1 MB)\n",
            "\u001b[K     |████████████████████████████████| 1.1 MB 50.0 MB/s \n",
            "\u001b[?25hRequirement already satisfied: tenacity>=7.* in /usr/local/lib/python3.7/dist-packages (from feast[aws]) (8.0.1)\n",
            "Collecting mmh3\n",
            "  Downloading mmh3-3.0.0-cp37-cp37m-manylinux2010_x86_64.whl (50 kB)\n",
            "\u001b[K     |████████████████████████████████| 50 kB 6.2 MB/s \n",
            "\u001b[?25hCollecting uvicorn[standard]>=0.14.0\n",
            "  Downloading uvicorn-0.17.6-py3-none-any.whl (53 kB)\n",
            "\u001b[K     |████████████████████████████████| 53 kB 1.8 MB/s \n",
            "\u001b[?25hRequirement already satisfied: tensorflow-metadata<2.0.0,>=1.0.0 in /usr/local/lib/python3.7/dist-packages (from feast[aws]) (1.7.0)\n",
            "Requirement already satisfied: pandas>=1.0.0 in /usr/local/lib/python3.7/dist-packages (from feast[aws]) (1.3.5)\n",
            "Collecting fastavro>=1.1.0\n",
            "  Downloading fastavro-1.4.10-cp37-cp37m-manylinux_2_17_x86_64.manylinux2014_x86_64.whl (2.3 MB)\n",
            "\u001b[K     |████████████████████████████████| 2.3 MB 59.8 MB/s \n",
            "\u001b[?25hRequirement already satisfied: Jinja2>=2.0.0 in /usr/local/lib/python3.7/dist-packages (from feast[aws]) (2.11.3)\n",
            "Collecting proto-plus<1.19.7\n",
            "  Downloading proto_plus-1.19.6-py3-none-any.whl (45 kB)\n",
            "\u001b[K     |████████████████████████████████| 45 kB 3.1 MB/s \n",
            "\u001b[?25hCollecting PyYAML>=5.4.*\n",
            "  Downloading PyYAML-6.0-cp37-cp37m-manylinux_2_5_x86_64.manylinux1_x86_64.manylinux_2_12_x86_64.manylinux2010_x86_64.whl (596 kB)\n",
            "\u001b[K     |████████████████████████████████| 596 kB 54.4 MB/s \n",
            "\u001b[?25hCollecting grpcio-reflection>=1.34.0\n",
            "  Downloading grpcio_reflection-1.44.0-py3-none-any.whl (14 kB)\n",
            "Collecting pandavro==1.5.*\n",
            "  Downloading pandavro-1.5.2.tar.gz (3.8 kB)\n",
            "Collecting pydantic>=1.0.0\n",
            "  Downloading pydantic-1.9.0-cp37-cp37m-manylinux_2_17_x86_64.manylinux2014_x86_64.whl (10.9 MB)\n",
            "\u001b[K     |████████████████████████████████| 10.9 MB 47.2 MB/s \n",
            "\u001b[?25hCollecting toml==0.10.*\n",
            "  Downloading toml-0.10.2-py2.py3-none-any.whl (16 kB)\n",
            "Requirement already satisfied: tabulate==0.8.* in /usr/local/lib/python3.7/dist-packages (from feast[aws]) (0.8.9)\n",
            "Requirement already satisfied: protobuf>=3.10 in /usr/local/lib/python3.7/dist-packages (from feast[aws]) (3.17.3)\n",
            "Collecting fastapi>=0.68.0\n",
            "  Downloading fastapi-0.75.0-py3-none-any.whl (54 kB)\n",
            "\u001b[K     |████████████████████████████████| 54 kB 2.5 MB/s \n",
            "\u001b[?25hRequirement already satisfied: pyarrow>=4.0.0 in /usr/local/lib/python3.7/dist-packages (from feast[aws]) (6.0.1)\n",
            "Collecting colorama>=0.3.9\n",
            "  Downloading colorama-0.4.4-py2.py3-none-any.whl (16 kB)\n",
            "Requirement already satisfied: google-api-core>=1.23.0 in /usr/local/lib/python3.7/dist-packages (from feast[aws]) (1.26.3)\n",
            "Requirement already satisfied: tqdm==4.* in /usr/local/lib/python3.7/dist-packages (from feast[aws]) (4.63.0)\n",
            "Requirement already satisfied: dill==0.3.* in /usr/local/lib/python3.7/dist-packages (from feast[aws]) (0.3.4)\n",
            "Requirement already satisfied: jsonschema in /usr/local/lib/python3.7/dist-packages (from feast[aws]) (4.3.3)\n",
            "Requirement already satisfied: Click>=7.* in /usr/local/lib/python3.7/dist-packages (from feast[aws]) (7.1.2)\n",
            "Collecting googleapis-common-protos==1.52.*\n",
            "  Downloading googleapis_common_protos-1.52.0-py2.py3-none-any.whl (100 kB)\n",
            "\u001b[K     |████████████████████████████████| 100 kB 9.9 MB/s \n",
            "\u001b[?25hCollecting boto3>=1.17.0\n",
            "  Downloading boto3-1.21.19-py3-none-any.whl (132 kB)\n",
            "\u001b[K     |████████████████████████████████| 132 kB 72.9 MB/s \n",
            "\u001b[?25hCollecting docker>=5.0.2\n",
            "  Downloading docker-5.0.3-py2.py3-none-any.whl (146 kB)\n",
            "\u001b[K     |████████████████████████████████| 146 kB 66.5 MB/s \n",
            "\u001b[?25hRequirement already satisfied: numpy>=1.7.0 in /usr/local/lib/python3.7/dist-packages (from pandavro==1.5.*->feast[aws]) (1.21.5)\n",
            "Requirement already satisfied: six>=1.9 in /usr/local/lib/python3.7/dist-packages (from pandavro==1.5.*->feast[aws]) (1.15.0)\n",
            "Collecting s3transfer<0.6.0,>=0.5.0\n",
            "  Downloading s3transfer-0.5.2-py3-none-any.whl (79 kB)\n",
            "\u001b[K     |████████████████████████████████| 79 kB 7.0 MB/s \n",
            "\u001b[?25hCollecting jmespath<1.0.0,>=0.7.1\n",
            "  Downloading jmespath-0.10.0-py2.py3-none-any.whl (24 kB)\n",
            "Collecting botocore<1.25.0,>=1.24.19\n",
            "  Downloading botocore-1.24.19-py3-none-any.whl (8.6 MB)\n",
            "\u001b[K     |████████████████████████████████| 8.6 MB 61.0 MB/s \n",
            "\u001b[?25hRequirement already satisfied: python-dateutil<3.0.0,>=2.1 in /usr/local/lib/python3.7/dist-packages (from botocore<1.25.0,>=1.24.19->boto3>=1.17.0->feast[aws]) (2.8.2)\n",
            "Collecting urllib3<1.27,>=1.25.4\n",
            "  Downloading urllib3-1.26.8-py2.py3-none-any.whl (138 kB)\n",
            "\u001b[K     |████████████████████████████████| 138 kB 68.7 MB/s \n",
            "\u001b[?25hRequirement already satisfied: packaging>=20.0 in /usr/local/lib/python3.7/dist-packages (from dask<2022.02.0,>=2021.*->feast[aws]) (21.3)\n",
            "Requirement already satisfied: toolz>=0.8.2 in /usr/local/lib/python3.7/dist-packages (from dask<2022.02.0,>=2021.*->feast[aws]) (0.11.2)\n",
            "Collecting partd>=0.3.10\n",
            "  Downloading partd-1.2.0-py3-none-any.whl (19 kB)\n",
            "Collecting fsspec>=0.6.0\n",
            "  Downloading fsspec-2022.2.0-py3-none-any.whl (134 kB)\n",
            "\u001b[K     |████████████████████████████████| 134 kB 67.7 MB/s \n",
            "\u001b[?25hRequirement already satisfied: cloudpickle>=1.1.1 in /usr/local/lib/python3.7/dist-packages (from dask<2022.02.0,>=2021.*->feast[aws]) (1.3.0)\n",
            "Requirement already satisfied: requests!=2.18.0,>=2.14.2 in /usr/local/lib/python3.7/dist-packages (from docker>=5.0.2->feast[aws]) (2.23.0)\n",
            "Collecting websocket-client>=0.32.0\n",
            "  Downloading websocket_client-1.3.1-py3-none-any.whl (54 kB)\n",
            "\u001b[K     |████████████████████████████████| 54 kB 2.4 MB/s \n",
            "\u001b[?25hCollecting starlette==0.17.1\n",
            "  Downloading starlette-0.17.1-py3-none-any.whl (58 kB)\n",
            "\u001b[K     |████████████████████████████████| 58 kB 5.0 MB/s \n",
            "\u001b[?25hCollecting anyio<4,>=3.0.0\n",
            "  Downloading anyio-3.5.0-py3-none-any.whl (79 kB)\n",
            "\u001b[K     |████████████████████████████████| 79 kB 7.0 MB/s \n",
            "\u001b[?25hRequirement already satisfied: typing-extensions in /usr/local/lib/python3.7/dist-packages (from starlette==0.17.1->fastapi>=0.68.0->feast[aws]) (3.10.0.2)\n",
            "Collecting sniffio>=1.1\n",
            "  Downloading sniffio-1.2.0-py3-none-any.whl (10 kB)\n",
            "Requirement already satisfied: idna>=2.8 in /usr/local/lib/python3.7/dist-packages (from anyio<4,>=3.0.0->starlette==0.17.1->fastapi>=0.68.0->feast[aws]) (2.10)\n",
            "Requirement already satisfied: setuptools>=40.3.0 in /usr/local/lib/python3.7/dist-packages (from google-api-core>=1.23.0->feast[aws]) (57.4.0)\n",
            "Requirement already satisfied: google-auth<2.0dev,>=1.21.1 in /usr/local/lib/python3.7/dist-packages (from google-api-core>=1.23.0->feast[aws]) (1.35.0)\n",
            "Requirement already satisfied: pytz in /usr/local/lib/python3.7/dist-packages (from google-api-core>=1.23.0->feast[aws]) (2018.9)\n",
            "Requirement already satisfied: cachetools<5.0,>=2.0.0 in /usr/local/lib/python3.7/dist-packages (from google-auth<2.0dev,>=1.21.1->google-api-core>=1.23.0->feast[aws]) (4.2.4)\n",
            "Requirement already satisfied: pyasn1-modules>=0.2.1 in /usr/local/lib/python3.7/dist-packages (from google-auth<2.0dev,>=1.21.1->google-api-core>=1.23.0->feast[aws]) (0.2.8)\n",
            "Requirement already satisfied: rsa<5,>=3.1.4 in /usr/local/lib/python3.7/dist-packages (from google-auth<2.0dev,>=1.21.1->google-api-core>=1.23.0->feast[aws]) (4.8)\n",
            "Requirement already satisfied: MarkupSafe>=0.23 in /usr/local/lib/python3.7/dist-packages (from Jinja2>=2.0.0->feast[aws]) (2.0.1)\n",
            "Requirement already satisfied: pyparsing!=3.0.5,>=2.0.2 in /usr/local/lib/python3.7/dist-packages (from packaging>=20.0->dask<2022.02.0,>=2021.*->feast[aws]) (3.0.7)\n",
            "Collecting locket\n",
            "  Downloading locket-0.2.1-py2.py3-none-any.whl (4.1 kB)\n",
            "Requirement already satisfied: pyasn1<0.5.0,>=0.4.6 in /usr/local/lib/python3.7/dist-packages (from pyasn1-modules>=0.2.1->google-auth<2.0dev,>=1.21.1->google-api-core>=1.23.0->feast[aws]) (0.4.8)\n",
            "Collecting urllib3<1.27,>=1.25.4\n",
            "  Downloading urllib3-1.25.11-py2.py3-none-any.whl (127 kB)\n",
            "\u001b[K     |████████████████████████████████| 127 kB 46.2 MB/s \n",
            "\u001b[?25hRequirement already satisfied: certifi>=2017.4.17 in /usr/local/lib/python3.7/dist-packages (from requests!=2.18.0,>=2.14.2->docker>=5.0.2->feast[aws]) (2021.10.8)\n",
            "Requirement already satisfied: chardet<4,>=3.0.2 in /usr/local/lib/python3.7/dist-packages (from requests!=2.18.0,>=2.14.2->docker>=5.0.2->feast[aws]) (3.0.4)\n",
            "Requirement already satisfied: absl-py<2.0.0,>=0.9 in /usr/local/lib/python3.7/dist-packages (from tensorflow-metadata<2.0.0,>=1.0.0->feast[aws]) (1.0.0)\n",
            "Collecting asgiref>=3.4.0\n",
            "  Downloading asgiref-3.5.0-py3-none-any.whl (22 kB)\n",
            "Collecting h11>=0.8\n",
            "  Downloading h11-0.13.0-py3-none-any.whl (58 kB)\n",
            "\u001b[K     |████████████████████████████████| 58 kB 5.0 MB/s \n",
            "\u001b[?25hCollecting python-dotenv>=0.13\n",
            "  Downloading python_dotenv-0.19.2-py2.py3-none-any.whl (17 kB)\n",
            "Collecting websockets>=10.0\n",
            "  Downloading websockets-10.2-cp37-cp37m-manylinux_2_5_x86_64.manylinux1_x86_64.manylinux_2_12_x86_64.manylinux2010_x86_64.whl (111 kB)\n",
            "\u001b[K     |████████████████████████████████| 111 kB 59.0 MB/s \n",
            "\u001b[?25hCollecting httptools>=0.4.0\n",
            "  Downloading httptools-0.4.0-cp37-cp37m-manylinux_2_5_x86_64.manylinux1_x86_64.manylinux_2_12_x86_64.manylinux2010_x86_64.whl (406 kB)\n",
            "\u001b[K     |████████████████████████████████| 406 kB 58.3 MB/s \n",
            "\u001b[?25hCollecting watchgod>=0.6\n",
            "  Downloading watchgod-0.8-py3-none-any.whl (12 kB)\n",
            "Collecting uvloop!=0.15.0,!=0.15.1,>=0.14.0\n",
            "  Downloading uvloop-0.16.0-cp37-cp37m-manylinux_2_12_x86_64.manylinux2010_x86_64.whl (3.8 MB)\n",
            "\u001b[K     |████████████████████████████████| 3.8 MB 47.7 MB/s \n",
            "\u001b[?25hRequirement already satisfied: importlib-resources>=1.4.0 in /usr/local/lib/python3.7/dist-packages (from jsonschema->feast[aws]) (5.4.0)\n",
            "Requirement already satisfied: importlib-metadata in /usr/local/lib/python3.7/dist-packages (from jsonschema->feast[aws]) (4.11.2)\n",
            "Requirement already satisfied: attrs>=17.4.0 in /usr/local/lib/python3.7/dist-packages (from jsonschema->feast[aws]) (21.4.0)\n",
            "Requirement already satisfied: pyrsistent!=0.17.0,!=0.17.1,!=0.17.2,>=0.14.0 in /usr/local/lib/python3.7/dist-packages (from jsonschema->feast[aws]) (0.18.1)\n",
            "Requirement already satisfied: zipp>=3.1.0 in /usr/local/lib/python3.7/dist-packages (from importlib-resources>=1.4.0->jsonschema->feast[aws]) (3.7.0)\n",
            "Building wheels for collected packages: pandavro\n",
            "  Building wheel for pandavro (setup.py) ... \u001b[?25l\u001b[?25hdone\n",
            "  Created wheel for pandavro: filename=pandavro-1.5.2-py3-none-any.whl size=2953 sha256=dda075e7f7fc5b11bdc1960147730f42a0853a7065d4aa897faaf539687c4fb8\n",
            "  Stored in directory: /root/.cache/pip/wheels/33/3f/96/9f1b46a9f7f6043ff4741b1aa1a7b249ba33be4dc1d08843e4\n",
            "Successfully built pandavro\n",
            "Installing collected packages: sniffio, urllib3, locket, jmespath, h11, asgiref, anyio, websockets, watchgod, uvloop, uvicorn, starlette, PyYAML, python-dotenv, pydantic, partd, httptools, googleapis-common-protos, fsspec, fastavro, botocore, websocket-client, toml, s3transfer, proto-plus, pandavro, mmh3, grpcio-reflection, fastapi, dask, colorama, feast, docker, boto3\n",
            "  Attempting uninstall: urllib3\n",
            "    Found existing installation: urllib3 1.24.3\n",
            "    Uninstalling urllib3-1.24.3:\n",
            "      Successfully uninstalled urllib3-1.24.3\n",
            "  Attempting uninstall: PyYAML\n",
            "    Found existing installation: PyYAML 3.13\n",
            "    Uninstalling PyYAML-3.13:\n",
            "      Successfully uninstalled PyYAML-3.13\n",
            "  Attempting uninstall: googleapis-common-protos\n",
            "    Found existing installation: googleapis-common-protos 1.55.0\n",
            "    Uninstalling googleapis-common-protos-1.55.0:\n",
            "      Successfully uninstalled googleapis-common-protos-1.55.0\n",
            "  Attempting uninstall: dask\n",
            "    Found existing installation: dask 2.12.0\n",
            "    Uninstalling dask-2.12.0:\n",
            "      Successfully uninstalled dask-2.12.0\n",
            "\u001b[31mERROR: pip's dependency resolver does not currently take into account all the packages that are installed. This behaviour is the source of the following dependency conflicts.\n",
            "datascience 0.10.6 requires folium==0.2.1, but you have folium 0.8.3 which is incompatible.\u001b[0m\n",
            "Successfully installed PyYAML-6.0 anyio-3.5.0 asgiref-3.5.0 boto3-1.21.19 botocore-1.24.19 colorama-0.4.4 dask-2022.1.1 docker-5.0.3 fastapi-0.75.0 fastavro-1.4.10 feast-0.19.3 fsspec-2022.2.0 googleapis-common-protos-1.52.0 grpcio-reflection-1.44.0 h11-0.13.0 httptools-0.4.0 jmespath-0.10.0 locket-0.2.1 mmh3-3.0.0 pandavro-1.5.2 partd-1.2.0 proto-plus-1.19.6 pydantic-1.9.0 python-dotenv-0.19.2 s3transfer-0.5.2 sniffio-1.2.0 starlette-0.17.1 toml-0.10.2 urllib3-1.25.11 uvicorn-0.17.6 uvloop-0.16.0 watchgod-0.8 websocket-client-1.3.1 websockets-10.2\n"
          ]
        },
        {
          "output_type": "display_data",
          "data": {
            "application/vnd.colab-display-data+json": {
              "pip_warning": {
                "packages": [
                  "google"
                ]
              }
            }
          },
          "metadata": {}
        }
      ],
      "source": [
        "!pip install feast[aws]"
      ]
    },
    {
      "cell_type": "code",
      "source": [
        "!feast init -t aws customer_segmentation"
      ],
      "metadata": {
        "colab": {
          "base_uri": "https://localhost:8080/"
        },
        "id": "DR2im1Pe8IEZ",
        "outputId": "bf5e2daf-5035-43f5-bf6c-fa5344a5ef52"
      },
      "execution_count": null,
      "outputs": [
        {
          "output_type": "stream",
          "name": "stdout",
          "text": [
            "Feast is an open source project that collects anonymized error reporting and usage statistics. To opt out or learn more see https://docs.feast.dev/reference/usage\n",
            "/usr/local/lib/python3.7/dist-packages/scipy/fft/__init__.py:97: DeprecationWarning: The module numpy.dual is deprecated.  Instead of using dual, use the functions directly from numpy or scipy.\n",
            "  from numpy.dual import register_func\n",
            "/usr/local/lib/python3.7/dist-packages/scipy/sparse/sputils.py:17: DeprecationWarning: `np.typeDict` is a deprecated alias for `np.sctypeDict`.\n",
            "  supported_dtypes = [np.typeDict[x] for x in supported_dtypes]\n",
            "AWS Region (e.g. us-west-2): us-east-1\n",
            "Redshift Cluster ID: feast-demo-mar-2022\n",
            "Redshift Database Name: dev\n",
            "Redshift User Name: awsuser\n",
            "Redshift S3 Staging Location (s3://*): s3://feast-demo-mar-2022/staging\n",
            "Redshift IAM Role for S3 (arn:aws:iam::*:role/*): arn:aws:iam::<account_numer>:role/feast-demo-mar-2022-spectrum-role\n",
            "Should I upload example data to Redshift (overwriting 'feast_driver_hourly_stats' table)? [Y/n]: n\n",
            "\n",
            "Creating a new Feast repository in \u001b[1m\u001b[32m/content/customer_segmentation\u001b[0m.\n",
            "\n"
          ]
        }
      ]
    },
    {
      "cell_type": "code",
      "source": [
        "!ls -R /content/customer_segmentation/"
      ],
      "metadata": {
        "colab": {
          "base_uri": "https://localhost:8080/"
        },
        "id": "KNWPXqaDln12",
        "outputId": "faa3b044-3333-4b02-beea-7bc847e12bb3"
      },
      "execution_count": null,
      "outputs": [
        {
          "output_type": "stream",
          "name": "stdout",
          "text": [
            "/content/customer_segmentation/:\n",
            "driver_repo.py\tfeature_store.yaml  __init__.py  test.py\n"
          ]
        }
      ]
    },
    {
      "cell_type": "code",
      "source": [
        "%cd customer_segmentation/\n",
        "!rm -rf driver_repo.py test.py"
      ],
      "metadata": {
        "id": "K_R7U0hSNues",
        "colab": {
          "base_uri": "https://localhost:8080/"
        },
        "outputId": "c5890907-472d-4124-b9b2-dd92b1b8977e"
      },
      "execution_count": null,
      "outputs": [
        {
          "output_type": "stream",
          "name": "stdout",
          "text": [
            "/content/customer_segmentation\n"
          ]
        }
      ]
    },
    {
      "cell_type": "code",
      "source": [
        "!cat /content/customer_segmentation/feature_store.yaml"
      ],
      "metadata": {
        "colab": {
          "base_uri": "https://localhost:8080/"
        },
        "id": "qv2RGoXY8cPW",
        "outputId": "8656c26b-4205-44fb-b339-ded32cde7381"
      },
      "execution_count": null,
      "outputs": [
        {
          "output_type": "stream",
          "name": "stdout",
          "text": [
            "project: customer_segmentation\n",
            "registry: data/registry.db\n",
            "provider: aws\n",
            "online_store:\n",
            "  type: dynamodb\n",
            "  region: us-east-1\n",
            "offline_store:\n",
            "  type: redshift\n",
            "  cluster_id: feast-demo-mar-2022\n",
            "  region: us-east-1\n",
            "  database: dev\n",
            "  user: awsuser\n",
            "  s3_staging_location: s3://feast-demo-mar-2022/staging\n",
            "  iam_role: arn:aws:iam::<account_numer>:role/feast-demo-mar-2022-spectrum-role\n"
          ]
        }
      ]
    },
    {
      "cell_type": "code",
      "source": [
        "!feast apply"
      ],
      "metadata": {
        "colab": {
          "base_uri": "https://localhost:8080/"
        },
        "id": "hreQlxriOGzY",
        "outputId": "41a74304-a5fa-463f-92ea-5475431d1e94"
      },
      "execution_count": null,
      "outputs": [
        {
          "output_type": "stream",
          "name": "stdout",
          "text": [
            "/usr/local/lib/python3.7/dist-packages/scipy/fft/__init__.py:97: DeprecationWarning: The module numpy.dual is deprecated.  Instead of using dual, use the functions directly from numpy or scipy.\n",
            "  from numpy.dual import register_func\n",
            "/usr/local/lib/python3.7/dist-packages/scipy/sparse/sputils.py:17: DeprecationWarning: `np.typeDict` is a deprecated alias for `np.sctypeDict`.\n",
            "  supported_dtypes = [np.typeDict[x] for x in supported_dtypes]\n",
            "\u001b[1m\u001b[94mNo changes to registry\n"
          ]
        }
      ]
    },
    {
      "cell_type": "code",
      "source": [
        "from feast import FeatureStore\n",
        "store = FeatureStore(repo_path=\".\")"
      ],
      "metadata": {
        "id": "UtKq4HpsOrhw",
        "colab": {
          "base_uri": "https://localhost:8080/"
        },
        "outputId": "71be812f-f4cc-40e9-955e-0ace8469bb4d"
      },
      "execution_count": null,
      "outputs": [
        {
          "output_type": "stream",
          "name": "stderr",
          "text": [
            "/usr/local/lib/python3.7/dist-packages/scipy/fft/__init__.py:97: DeprecationWarning: The module numpy.dual is deprecated.  Instead of using dual, use the functions directly from numpy or scipy.\n",
            "  from numpy.dual import register_func\n",
            "/usr/local/lib/python3.7/dist-packages/scipy/sparse/sputils.py:17: DeprecationWarning: `np.typeDict` is a deprecated alias for `np.sctypeDict`.\n",
            "  supported_dtypes = [np.typeDict[x] for x in supported_dtypes]\n"
          ]
        }
      ]
    },
    {
      "cell_type": "code",
      "source": [
        "print(f\"List of entities: {store.list_entities()}\")\n",
        "print(f\"List of FeatureViews: {store.list_feature_views()}\")"
      ],
      "metadata": {
        "colab": {
          "base_uri": "https://localhost:8080/"
        },
        "id": "-6trLQKoPa-U",
        "outputId": "f5ede051-957b-499c-8b16-a73439cbbd45"
      },
      "execution_count": null,
      "outputs": [
        {
          "output_type": "stream",
          "name": "stdout",
          "text": [
            "List of entities: []\n",
            "List of FeatureViews: []\n"
          ]
        }
      ]
    },
    {
      "cell_type": "markdown",
      "source": [
        "## **Apply Feature definition after creating all the resources and mapping external database**"
      ],
      "metadata": {
        "id": "MsAmNK-4hUm0"
      }
    },
    {
      "cell_type": "code",
      "source": [
        "import os\n",
        "os.environ[\"AWS_ACCESS_KEY_ID\"] = \"<aws_key>\"\n",
        "os.environ[\"AWS_SECRET_ACCESS_KEY\"] = \"<aws_secret>\"\n",
        "os.environ[\"AWS_DEFAULT_REGION\"] = \"us-east-1\""
      ],
      "metadata": {
        "id": "w3jsvZXYVXnJ"
      },
      "execution_count": 28,
      "outputs": []
    },
    {
      "cell_type": "code",
      "source": [
        "%cd customer_segmentation/\n",
        "!feast apply"
      ],
      "metadata": {
        "colab": {
          "base_uri": "https://localhost:8080/"
        },
        "id": "vw5pFyXQXNZl",
        "outputId": "4ba0b5ba-7799-433c-d229-793fe17c1e72"
      },
      "execution_count": null,
      "outputs": [
        {
          "output_type": "stream",
          "name": "stdout",
          "text": [
            "[Errno 2] No such file or directory: 'customer_segmentation/'\n",
            "/content/customer_segmentation\n",
            "/usr/local/lib/python3.7/dist-packages/scipy/fft/__init__.py:97: DeprecationWarning: The module numpy.dual is deprecated.  Instead of using dual, use the functions directly from numpy or scipy.\n",
            "  from numpy.dual import register_func\n",
            "/usr/local/lib/python3.7/dist-packages/scipy/sparse/sputils.py:17: DeprecationWarning: `np.typeDict` is a deprecated alias for `np.sctypeDict`.\n",
            "  supported_dtypes = [np.typeDict[x] for x in supported_dtypes]\n",
            "/usr/local/lib/python3.7/dist-packages/feast/infra/offline_stores/redshift_source.py:55: DeprecationWarning: Starting in Feast 0.21, Feast will require either a name for a data source (if using query) or `table`.\n",
            "  DeprecationWarning,\n",
            "03/14/2022 03:01:38 AM INFO:Found credentials in environment variables.\n",
            "Created data source \u001b[1m\u001b[32m\u001b[0m\n",
            "Created entity \u001b[1m\u001b[32mcustomer\u001b[0m\n",
            "Created feature view \u001b[1m\u001b[32mcustomer_rfm_features\u001b[0m\n",
            "\n",
            "Deploying infrastructure for \u001b[1m\u001b[32mcustomer_rfm_features\u001b[0m\n"
          ]
        }
      ]
    },
    {
      "cell_type": "markdown",
      "source": [
        "## **After Feast Apply**"
      ],
      "metadata": {
        "id": "FXYBk8UF7LxU"
      }
    },
    {
      "cell_type": "code",
      "source": [
        "%cd customer_segmentation/\n",
        "from feast import FeatureStore\n",
        "store = FeatureStore(repo_path=\".\")"
      ],
      "metadata": {
        "colab": {
          "base_uri": "https://localhost:8080/"
        },
        "id": "FG0wi_mu26u_",
        "outputId": "faa172a4-3a72-4b36-9835-00b855308fda"
      },
      "execution_count": 6,
      "outputs": [
        {
          "output_type": "stream",
          "name": "stdout",
          "text": [
            "/content/customer_segmentation\n"
          ]
        },
        {
          "output_type": "stream",
          "name": "stderr",
          "text": [
            "/usr/local/lib/python3.7/dist-packages/scipy/fft/__init__.py:97: DeprecationWarning: The module numpy.dual is deprecated.  Instead of using dual, use the functions directly from numpy or scipy.\n",
            "  from numpy.dual import register_func\n",
            "/usr/local/lib/python3.7/dist-packages/scipy/sparse/sputils.py:17: DeprecationWarning: `np.typeDict` is a deprecated alias for `np.sctypeDict`.\n",
            "  supported_dtypes = [np.typeDict[x] for x in supported_dtypes]\n"
          ]
        }
      ]
    },
    {
      "cell_type": "code",
      "source": [
        "print(\"-----------------------Entity----------------------------\")\n",
        "for entity in store.list_entities():\n",
        "  print(f\"entity: {entity}\")\n",
        "print(\"--------------------Feature Views----------------------------\")\n",
        "for feature_view in store.list_feature_views():\n",
        "  print(f\"List of FeatureViews: {feature_view}\")"
      ],
      "metadata": {
        "colab": {
          "base_uri": "https://localhost:8080/"
        },
        "id": "WX87IDUx3fjR",
        "outputId": "1f904707-1e18-40cb-a3c2-10d13a1d173e"
      },
      "execution_count": 9,
      "outputs": [
        {
          "output_type": "stream",
          "name": "stdout",
          "text": [
            "-----------------------Entity----------------------------\n",
            "entity: {\n",
            "  \"spec\": {\n",
            "    \"name\": \"customer\",\n",
            "    \"valueType\": \"STRING\",\n",
            "    \"description\": \"Id of the customer\",\n",
            "    \"joinKey\": \"CustomerID\"\n",
            "  },\n",
            "  \"meta\": {\n",
            "    \"createdTimestamp\": \"2022-03-14T23:41:33.070471Z\",\n",
            "    \"lastUpdatedTimestamp\": \"2022-03-14T23:41:33.070471Z\"\n",
            "  }\n",
            "}\n",
            "--------------------Feature Views----------------------------\n",
            "List of FeatureViews: {\n",
            "  \"spec\": {\n",
            "    \"name\": \"customer_rfm_features\",\n",
            "    \"entities\": [\n",
            "      \"customer\"\n",
            "    ],\n",
            "    \"features\": [\n",
            "      {\n",
            "        \"name\": \"Recency\",\n",
            "        \"valueType\": \"INT32\"\n",
            "      },\n",
            "      {\n",
            "        \"name\": \"Frequency\",\n",
            "        \"valueType\": \"INT32\"\n",
            "      },\n",
            "      {\n",
            "        \"name\": \"MonetaryValue\",\n",
            "        \"valueType\": \"DOUBLE\"\n",
            "      },\n",
            "      {\n",
            "        \"name\": \"R\",\n",
            "        \"valueType\": \"INT32\"\n",
            "      },\n",
            "      {\n",
            "        \"name\": \"F\",\n",
            "        \"valueType\": \"INT32\"\n",
            "      },\n",
            "      {\n",
            "        \"name\": \"M\",\n",
            "        \"valueType\": \"INT32\"\n",
            "      },\n",
            "      {\n",
            "        \"name\": \"RFMScore\",\n",
            "        \"valueType\": \"INT32\"\n",
            "      },\n",
            "      {\n",
            "        \"name\": \"Revenue6m\",\n",
            "        \"valueType\": \"DOUBLE\"\n",
            "      },\n",
            "      {\n",
            "        \"name\": \"LTVCluster\",\n",
            "        \"valueType\": \"INT32\"\n",
            "      },\n",
            "      {\n",
            "        \"name\": \"SegmentHighValue\",\n",
            "        \"valueType\": \"INT32\"\n",
            "      },\n",
            "      {\n",
            "        \"name\": \"SegmentLowValue\",\n",
            "        \"valueType\": \"INT32\"\n",
            "      },\n",
            "      {\n",
            "        \"name\": \"SegmentMidValue\",\n",
            "        \"valueType\": \"INT32\"\n",
            "      }\n",
            "    ],\n",
            "    \"ttl\": \"315360000s\",\n",
            "    \"batchSource\": {\n",
            "      \"type\": \"BATCH_REDSHIFT\",\n",
            "      \"eventTimestampColumn\": \"event_timestamp\",\n",
            "      \"createdTimestampColumn\": \"created_timestamp\",\n",
            "      \"redshiftOptions\": {\n",
            "        \"query\": \"SELECT * FROM spectrum.customer_rfm_features\"\n",
            "      },\n",
            "      \"dataSourceClassType\": \"feast.infra.offline_stores.redshift_source.RedshiftSource\"\n",
            "    },\n",
            "    \"online\": true\n",
            "  },\n",
            "  \"meta\": {\n",
            "    \"createdTimestamp\": \"2022-03-14T23:41:33.070471Z\",\n",
            "    \"lastUpdatedTimestamp\": \"2022-03-14T23:41:33.070471Z\"\n",
            "  }\n",
            "}\n"
          ]
        },
        {
          "output_type": "stream",
          "name": "stderr",
          "text": [
            "/usr/local/lib/python3.7/dist-packages/feast/infra/offline_stores/redshift_source.py:55: DeprecationWarning: Starting in Feast 0.21, Feast will require either a name for a data source (if using query) or `table`.\n",
            "  DeprecationWarning,\n"
          ]
        }
      ]
    },
    {
      "cell_type": "markdown",
      "source": [
        "## **Query Data**"
      ],
      "metadata": {
        "id": "pg5V5OiX7nDK"
      }
    },
    {
      "cell_type": "code",
      "source": [
        "import pandas as pd\n",
        "from datetime import datetime, timedelta\n",
        "entity_df = pd.DataFrame.from_dict(\n",
        "    {\n",
        "        \"CustomerID\": [\"12747.0\", \"12748.0\", \"12749.0\"],\n",
        "        \"event_timestamp\": [datetime.now()]*3\n",
        "    }\n",
        ")\n",
        "entity_df.head()"
      ],
      "metadata": {
        "colab": {
          "base_uri": "https://localhost:8080/",
          "height": 143
        },
        "id": "71dm31P67tTQ",
        "outputId": "073cdc20-2be8-4543-8fe0-4ef06d890d07"
      },
      "execution_count": 23,
      "outputs": [
        {
          "output_type": "execute_result",
          "data": {
            "text/plain": [
              "  CustomerID            event_timestamp\n",
              "0    12747.0 2022-03-15 00:58:45.594038\n",
              "1    12748.0 2022-03-15 00:58:45.594038\n",
              "2    12749.0 2022-03-15 00:58:45.594038"
            ],
            "text/html": [
              "\n",
              "  <div id=\"df-607b777b-ad5d-4cb0-9152-752c5f5737c3\">\n",
              "    <div class=\"colab-df-container\">\n",
              "      <div>\n",
              "<style scoped>\n",
              "    .dataframe tbody tr th:only-of-type {\n",
              "        vertical-align: middle;\n",
              "    }\n",
              "\n",
              "    .dataframe tbody tr th {\n",
              "        vertical-align: top;\n",
              "    }\n",
              "\n",
              "    .dataframe thead th {\n",
              "        text-align: right;\n",
              "    }\n",
              "</style>\n",
              "<table border=\"1\" class=\"dataframe\">\n",
              "  <thead>\n",
              "    <tr style=\"text-align: right;\">\n",
              "      <th></th>\n",
              "      <th>CustomerID</th>\n",
              "      <th>event_timestamp</th>\n",
              "    </tr>\n",
              "  </thead>\n",
              "  <tbody>\n",
              "    <tr>\n",
              "      <th>0</th>\n",
              "      <td>12747.0</td>\n",
              "      <td>2022-03-15 00:58:45.594038</td>\n",
              "    </tr>\n",
              "    <tr>\n",
              "      <th>1</th>\n",
              "      <td>12748.0</td>\n",
              "      <td>2022-03-15 00:58:45.594038</td>\n",
              "    </tr>\n",
              "    <tr>\n",
              "      <th>2</th>\n",
              "      <td>12749.0</td>\n",
              "      <td>2022-03-15 00:58:45.594038</td>\n",
              "    </tr>\n",
              "  </tbody>\n",
              "</table>\n",
              "</div>\n",
              "      <button class=\"colab-df-convert\" onclick=\"convertToInteractive('df-607b777b-ad5d-4cb0-9152-752c5f5737c3')\"\n",
              "              title=\"Convert this dataframe to an interactive table.\"\n",
              "              style=\"display:none;\">\n",
              "        \n",
              "  <svg xmlns=\"http://www.w3.org/2000/svg\" height=\"24px\"viewBox=\"0 0 24 24\"\n",
              "       width=\"24px\">\n",
              "    <path d=\"M0 0h24v24H0V0z\" fill=\"none\"/>\n",
              "    <path d=\"M18.56 5.44l.94 2.06.94-2.06 2.06-.94-2.06-.94-.94-2.06-.94 2.06-2.06.94zm-11 1L8.5 8.5l.94-2.06 2.06-.94-2.06-.94L8.5 2.5l-.94 2.06-2.06.94zm10 10l.94 2.06.94-2.06 2.06-.94-2.06-.94-.94-2.06-.94 2.06-2.06.94z\"/><path d=\"M17.41 7.96l-1.37-1.37c-.4-.4-.92-.59-1.43-.59-.52 0-1.04.2-1.43.59L10.3 9.45l-7.72 7.72c-.78.78-.78 2.05 0 2.83L4 21.41c.39.39.9.59 1.41.59.51 0 1.02-.2 1.41-.59l7.78-7.78 2.81-2.81c.8-.78.8-2.07 0-2.86zM5.41 20L4 18.59l7.72-7.72 1.47 1.35L5.41 20z\"/>\n",
              "  </svg>\n",
              "      </button>\n",
              "      \n",
              "  <style>\n",
              "    .colab-df-container {\n",
              "      display:flex;\n",
              "      flex-wrap:wrap;\n",
              "      gap: 12px;\n",
              "    }\n",
              "\n",
              "    .colab-df-convert {\n",
              "      background-color: #E8F0FE;\n",
              "      border: none;\n",
              "      border-radius: 50%;\n",
              "      cursor: pointer;\n",
              "      display: none;\n",
              "      fill: #1967D2;\n",
              "      height: 32px;\n",
              "      padding: 0 0 0 0;\n",
              "      width: 32px;\n",
              "    }\n",
              "\n",
              "    .colab-df-convert:hover {\n",
              "      background-color: #E2EBFA;\n",
              "      box-shadow: 0px 1px 2px rgba(60, 64, 67, 0.3), 0px 1px 3px 1px rgba(60, 64, 67, 0.15);\n",
              "      fill: #174EA6;\n",
              "    }\n",
              "\n",
              "    [theme=dark] .colab-df-convert {\n",
              "      background-color: #3B4455;\n",
              "      fill: #D2E3FC;\n",
              "    }\n",
              "\n",
              "    [theme=dark] .colab-df-convert:hover {\n",
              "      background-color: #434B5C;\n",
              "      box-shadow: 0px 1px 3px 1px rgba(0, 0, 0, 0.15);\n",
              "      filter: drop-shadow(0px 1px 2px rgba(0, 0, 0, 0.3));\n",
              "      fill: #FFFFFF;\n",
              "    }\n",
              "  </style>\n",
              "\n",
              "      <script>\n",
              "        const buttonEl =\n",
              "          document.querySelector('#df-607b777b-ad5d-4cb0-9152-752c5f5737c3 button.colab-df-convert');\n",
              "        buttonEl.style.display =\n",
              "          google.colab.kernel.accessAllowed ? 'block' : 'none';\n",
              "\n",
              "        async function convertToInteractive(key) {\n",
              "          const element = document.querySelector('#df-607b777b-ad5d-4cb0-9152-752c5f5737c3');\n",
              "          const dataTable =\n",
              "            await google.colab.kernel.invokeFunction('convertToInteractive',\n",
              "                                                     [key], {});\n",
              "          if (!dataTable) return;\n",
              "\n",
              "          const docLinkHtml = 'Like what you see? Visit the ' +\n",
              "            '<a target=\"_blank\" href=https://colab.research.google.com/notebooks/data_table.ipynb>data table notebook</a>'\n",
              "            + ' to learn more about interactive tables.';\n",
              "          element.innerHTML = '';\n",
              "          dataTable['output_type'] = 'display_data';\n",
              "          await google.colab.output.renderOutput(dataTable, element);\n",
              "          const docLink = document.createElement('div');\n",
              "          docLink.innerHTML = docLinkHtml;\n",
              "          element.appendChild(docLink);\n",
              "        }\n",
              "      </script>\n",
              "    </div>\n",
              "  </div>\n",
              "  "
            ]
          },
          "metadata": {},
          "execution_count": 23
        }
      ]
    },
    {
      "cell_type": "code",
      "source": [
        "job = store.get_historical_features(\n",
        "    entity_df=entity_df,\n",
        "    features=[\n",
        "              \"customer_rfm_features:recency\", \n",
        "              \"customer_rfm_features:frequency\", \n",
        "              \"customer_rfm_features:MonetaryValue\", \n",
        "              \"customer_rfm_features:R\", \n",
        "              \"customer_rfm_features:F\", \n",
        "              \"customer_rfm_features:M\"]\n",
        "    )"
      ],
      "metadata": {
        "colab": {
          "base_uri": "https://localhost:8080/"
        },
        "id": "6eLaTXTt85If",
        "outputId": "5c7792fc-9676-45a3-9d2d-5e4aeae183f6"
      },
      "execution_count": 24,
      "outputs": [
        {
          "output_type": "stream",
          "name": "stderr",
          "text": [
            "/usr/local/lib/python3.7/dist-packages/feast/infra/offline_stores/redshift_source.py:55: DeprecationWarning: Starting in Feast 0.21, Feast will require either a name for a data source (if using query) or `table`.\n",
            "  DeprecationWarning,\n"
          ]
        }
      ]
    },
    {
      "cell_type": "code",
      "source": [
        "df = job.to_df()"
      ],
      "metadata": {
        "id": "ch8QHqxU-QtN"
      },
      "execution_count": 25,
      "outputs": []
    },
    {
      "cell_type": "code",
      "source": [
        "df.head()"
      ],
      "metadata": {
        "colab": {
          "base_uri": "https://localhost:8080/",
          "height": 143
        },
        "id": "EvDw3o3TCfX7",
        "outputId": "1dd04fe7-0b9b-43a0-d385-6f5db068cd61"
      },
      "execution_count": 27,
      "outputs": [
        {
          "output_type": "execute_result",
          "data": {
            "text/plain": [
              "  customerid            event_timestamp  recency  frequency  monetaryvalue  r  \\\n",
              "0    12747.0 2022-03-15 00:58:45.594038        7         35        1082.09  3   \n",
              "1    12749.0 2022-03-15 00:58:45.594038        8         54         782.10  3   \n",
              "2    12748.0 2022-03-15 00:58:45.594038        1        582        4336.73  3   \n",
              "\n",
              "   f  m  \n",
              "0  2  3  \n",
              "1  3  3  \n",
              "2  3  3  "
            ],
            "text/html": [
              "\n",
              "  <div id=\"df-659bf20c-8b14-4bbc-8b51-11d37f83538a\">\n",
              "    <div class=\"colab-df-container\">\n",
              "      <div>\n",
              "<style scoped>\n",
              "    .dataframe tbody tr th:only-of-type {\n",
              "        vertical-align: middle;\n",
              "    }\n",
              "\n",
              "    .dataframe tbody tr th {\n",
              "        vertical-align: top;\n",
              "    }\n",
              "\n",
              "    .dataframe thead th {\n",
              "        text-align: right;\n",
              "    }\n",
              "</style>\n",
              "<table border=\"1\" class=\"dataframe\">\n",
              "  <thead>\n",
              "    <tr style=\"text-align: right;\">\n",
              "      <th></th>\n",
              "      <th>customerid</th>\n",
              "      <th>event_timestamp</th>\n",
              "      <th>recency</th>\n",
              "      <th>frequency</th>\n",
              "      <th>monetaryvalue</th>\n",
              "      <th>r</th>\n",
              "      <th>f</th>\n",
              "      <th>m</th>\n",
              "    </tr>\n",
              "  </thead>\n",
              "  <tbody>\n",
              "    <tr>\n",
              "      <th>0</th>\n",
              "      <td>12747.0</td>\n",
              "      <td>2022-03-15 00:58:45.594038</td>\n",
              "      <td>7</td>\n",
              "      <td>35</td>\n",
              "      <td>1082.09</td>\n",
              "      <td>3</td>\n",
              "      <td>2</td>\n",
              "      <td>3</td>\n",
              "    </tr>\n",
              "    <tr>\n",
              "      <th>1</th>\n",
              "      <td>12749.0</td>\n",
              "      <td>2022-03-15 00:58:45.594038</td>\n",
              "      <td>8</td>\n",
              "      <td>54</td>\n",
              "      <td>782.10</td>\n",
              "      <td>3</td>\n",
              "      <td>3</td>\n",
              "      <td>3</td>\n",
              "    </tr>\n",
              "    <tr>\n",
              "      <th>2</th>\n",
              "      <td>12748.0</td>\n",
              "      <td>2022-03-15 00:58:45.594038</td>\n",
              "      <td>1</td>\n",
              "      <td>582</td>\n",
              "      <td>4336.73</td>\n",
              "      <td>3</td>\n",
              "      <td>3</td>\n",
              "      <td>3</td>\n",
              "    </tr>\n",
              "  </tbody>\n",
              "</table>\n",
              "</div>\n",
              "      <button class=\"colab-df-convert\" onclick=\"convertToInteractive('df-659bf20c-8b14-4bbc-8b51-11d37f83538a')\"\n",
              "              title=\"Convert this dataframe to an interactive table.\"\n",
              "              style=\"display:none;\">\n",
              "        \n",
              "  <svg xmlns=\"http://www.w3.org/2000/svg\" height=\"24px\"viewBox=\"0 0 24 24\"\n",
              "       width=\"24px\">\n",
              "    <path d=\"M0 0h24v24H0V0z\" fill=\"none\"/>\n",
              "    <path d=\"M18.56 5.44l.94 2.06.94-2.06 2.06-.94-2.06-.94-.94-2.06-.94 2.06-2.06.94zm-11 1L8.5 8.5l.94-2.06 2.06-.94-2.06-.94L8.5 2.5l-.94 2.06-2.06.94zm10 10l.94 2.06.94-2.06 2.06-.94-2.06-.94-.94-2.06-.94 2.06-2.06.94z\"/><path d=\"M17.41 7.96l-1.37-1.37c-.4-.4-.92-.59-1.43-.59-.52 0-1.04.2-1.43.59L10.3 9.45l-7.72 7.72c-.78.78-.78 2.05 0 2.83L4 21.41c.39.39.9.59 1.41.59.51 0 1.02-.2 1.41-.59l7.78-7.78 2.81-2.81c.8-.78.8-2.07 0-2.86zM5.41 20L4 18.59l7.72-7.72 1.47 1.35L5.41 20z\"/>\n",
              "  </svg>\n",
              "      </button>\n",
              "      \n",
              "  <style>\n",
              "    .colab-df-container {\n",
              "      display:flex;\n",
              "      flex-wrap:wrap;\n",
              "      gap: 12px;\n",
              "    }\n",
              "\n",
              "    .colab-df-convert {\n",
              "      background-color: #E8F0FE;\n",
              "      border: none;\n",
              "      border-radius: 50%;\n",
              "      cursor: pointer;\n",
              "      display: none;\n",
              "      fill: #1967D2;\n",
              "      height: 32px;\n",
              "      padding: 0 0 0 0;\n",
              "      width: 32px;\n",
              "    }\n",
              "\n",
              "    .colab-df-convert:hover {\n",
              "      background-color: #E2EBFA;\n",
              "      box-shadow: 0px 1px 2px rgba(60, 64, 67, 0.3), 0px 1px 3px 1px rgba(60, 64, 67, 0.15);\n",
              "      fill: #174EA6;\n",
              "    }\n",
              "\n",
              "    [theme=dark] .colab-df-convert {\n",
              "      background-color: #3B4455;\n",
              "      fill: #D2E3FC;\n",
              "    }\n",
              "\n",
              "    [theme=dark] .colab-df-convert:hover {\n",
              "      background-color: #434B5C;\n",
              "      box-shadow: 0px 1px 3px 1px rgba(0, 0, 0, 0.15);\n",
              "      filter: drop-shadow(0px 1px 2px rgba(0, 0, 0, 0.3));\n",
              "      fill: #FFFFFF;\n",
              "    }\n",
              "  </style>\n",
              "\n",
              "      <script>\n",
              "        const buttonEl =\n",
              "          document.querySelector('#df-659bf20c-8b14-4bbc-8b51-11d37f83538a button.colab-df-convert');\n",
              "        buttonEl.style.display =\n",
              "          google.colab.kernel.accessAllowed ? 'block' : 'none';\n",
              "\n",
              "        async function convertToInteractive(key) {\n",
              "          const element = document.querySelector('#df-659bf20c-8b14-4bbc-8b51-11d37f83538a');\n",
              "          const dataTable =\n",
              "            await google.colab.kernel.invokeFunction('convertToInteractive',\n",
              "                                                     [key], {});\n",
              "          if (!dataTable) return;\n",
              "\n",
              "          const docLinkHtml = 'Like what you see? Visit the ' +\n",
              "            '<a target=\"_blank\" href=https://colab.research.google.com/notebooks/data_table.ipynb>data table notebook</a>'\n",
              "            + ' to learn more about interactive tables.';\n",
              "          element.innerHTML = '';\n",
              "          dataTable['output_type'] = 'display_data';\n",
              "          await google.colab.output.renderOutput(dataTable, element);\n",
              "          const docLink = document.createElement('div');\n",
              "          docLink.innerHTML = docLinkHtml;\n",
              "          element.appendChild(docLink);\n",
              "        }\n",
              "      </script>\n",
              "    </div>\n",
              "  </div>\n",
              "  "
            ]
          },
          "metadata": {},
          "execution_count": 27
        }
      ]
    }
  ]
}