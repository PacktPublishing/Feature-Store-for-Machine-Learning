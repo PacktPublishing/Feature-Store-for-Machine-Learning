{
  "cells": [
    {
      "cell_type": "code",
      "execution_count": 7,
      "metadata": {
        "colab": {
          "base_uri": "https://localhost:8080/"
        },
        "id": "xupONShN6OJi",
        "outputId": "a76244bd-b726-4e56-af0f-5d76d2201d27"
      },
      "outputs": [
        {
          "name": "stdout",
          "output_type": "stream",
          "text": [
            "Requirement already satisfied: feast[aws]==0.19.3 in /usr/local/lib/python3.7/dist-packages (0.19.3)\n",
            "Requirement already satisfied: proto-plus<1.19.7 in /usr/local/lib/python3.7/dist-packages (from feast[aws]==0.19.3) (1.19.6)\n",
            "Requirement already satisfied: protobuf>=3.10 in /usr/local/lib/python3.7/dist-packages (from feast[aws]==0.19.3) (3.17.3)\n",
            "Requirement already satisfied: Click>=7.* in /usr/local/lib/python3.7/dist-packages (from feast[aws]==0.19.3) (7.1.2)\n",
            "Requirement already satisfied: pyarrow>=4.0.0 in /usr/local/lib/python3.7/dist-packages (from feast[aws]==0.19.3) (6.0.1)\n",
            "Requirement already satisfied: tenacity>=7.* in /usr/local/lib/python3.7/dist-packages (from feast[aws]==0.19.3) (8.0.1)\n",
            "Requirement already satisfied: fastavro>=1.1.0 in /usr/local/lib/python3.7/dist-packages (from feast[aws]==0.19.3) (1.4.10)\n",
            "Requirement already satisfied: colorama>=0.3.9 in /usr/local/lib/python3.7/dist-packages (from feast[aws]==0.19.3) (0.4.4)\n",
            "Requirement already satisfied: jsonschema in /usr/local/lib/python3.7/dist-packages (from feast[aws]==0.19.3) (4.3.3)\n",
            "Requirement already satisfied: Jinja2>=2.0.0 in /usr/local/lib/python3.7/dist-packages (from feast[aws]==0.19.3) (2.11.3)\n",
            "Requirement already satisfied: mmh3 in /usr/local/lib/python3.7/dist-packages (from feast[aws]==0.19.3) (3.0.0)\n",
            "Requirement already satisfied: dill==0.3.* in /usr/local/lib/python3.7/dist-packages (from feast[aws]==0.19.3) (0.3.4)\n",
            "Requirement already satisfied: tqdm==4.* in /usr/local/lib/python3.7/dist-packages (from feast[aws]==0.19.3) (4.64.0)\n",
            "Requirement already satisfied: PyYAML>=5.4.* in /usr/local/lib/python3.7/dist-packages (from feast[aws]==0.19.3) (6.0)\n",
            "Requirement already satisfied: tensorflow-metadata<2.0.0,>=1.0.0 in /usr/local/lib/python3.7/dist-packages (from feast[aws]==0.19.3) (1.7.0)\n",
            "Requirement already satisfied: fastapi>=0.68.0 in /usr/local/lib/python3.7/dist-packages (from feast[aws]==0.19.3) (0.75.2)\n",
            "Requirement already satisfied: pandas>=1.0.0 in /usr/local/lib/python3.7/dist-packages (from feast[aws]==0.19.3) (1.3.5)\n",
            "Requirement already satisfied: uvicorn[standard]>=0.14.0 in /usr/local/lib/python3.7/dist-packages (from feast[aws]==0.19.3) (0.17.6)\n",
            "Requirement already satisfied: grpcio-reflection>=1.34.0 in /usr/local/lib/python3.7/dist-packages (from feast[aws]==0.19.3) (1.44.0)\n",
            "Requirement already satisfied: pydantic>=1.0.0 in /usr/local/lib/python3.7/dist-packages (from feast[aws]==0.19.3) (1.9.0)\n",
            "Requirement already satisfied: grpcio>=1.34.0 in /usr/local/lib/python3.7/dist-packages (from feast[aws]==0.19.3) (1.44.0)\n",
            "Requirement already satisfied: tabulate==0.8.* in /usr/local/lib/python3.7/dist-packages (from feast[aws]==0.19.3) (0.8.9)\n",
            "Requirement already satisfied: toml==0.10.* in /usr/local/lib/python3.7/dist-packages (from feast[aws]==0.19.3) (0.10.2)\n",
            "Requirement already satisfied: googleapis-common-protos==1.52.* in /usr/local/lib/python3.7/dist-packages (from feast[aws]==0.19.3) (1.52.0)\n",
            "Requirement already satisfied: dask<2022.02.0,>=2021.* in /usr/local/lib/python3.7/dist-packages (from feast[aws]==0.19.3) (2022.1.1)\n",
            "Requirement already satisfied: google-api-core>=1.23.0 in /usr/local/lib/python3.7/dist-packages (from feast[aws]==0.19.3) (1.31.5)\n",
            "Requirement already satisfied: pandavro==1.5.* in /usr/local/lib/python3.7/dist-packages (from feast[aws]==0.19.3) (1.5.2)\n",
            "Requirement already satisfied: boto3>=1.17.0 in /usr/local/lib/python3.7/dist-packages (from feast[aws]==0.19.3) (1.21.45)\n",
            "Requirement already satisfied: docker>=5.0.2 in /usr/local/lib/python3.7/dist-packages (from feast[aws]==0.19.3) (5.0.3)\n",
            "Requirement already satisfied: numpy>=1.7.0 in /usr/local/lib/python3.7/dist-packages (from pandavro==1.5.*->feast[aws]==0.19.3) (1.21.6)\n",
            "Requirement already satisfied: six>=1.9 in /usr/local/lib/python3.7/dist-packages (from pandavro==1.5.*->feast[aws]==0.19.3) (1.15.0)\n",
            "Requirement already satisfied: s3transfer<0.6.0,>=0.5.0 in /usr/local/lib/python3.7/dist-packages (from boto3>=1.17.0->feast[aws]==0.19.3) (0.5.2)\n",
            "Requirement already satisfied: jmespath<2.0.0,>=0.7.1 in /usr/local/lib/python3.7/dist-packages (from boto3>=1.17.0->feast[aws]==0.19.3) (1.0.0)\n",
            "Requirement already satisfied: botocore<1.25.0,>=1.24.45 in /usr/local/lib/python3.7/dist-packages (from boto3>=1.17.0->feast[aws]==0.19.3) (1.24.45)\n",
            "Requirement already satisfied: urllib3<1.27,>=1.25.4 in /usr/local/lib/python3.7/dist-packages (from botocore<1.25.0,>=1.24.45->boto3>=1.17.0->feast[aws]==0.19.3) (1.25.11)\n",
            "Requirement already satisfied: python-dateutil<3.0.0,>=2.1 in /usr/local/lib/python3.7/dist-packages (from botocore<1.25.0,>=1.24.45->boto3>=1.17.0->feast[aws]==0.19.3) (2.8.2)\n",
            "Requirement already satisfied: fsspec>=0.6.0 in /usr/local/lib/python3.7/dist-packages (from dask<2022.02.0,>=2021.*->feast[aws]==0.19.3) (2022.3.0)\n",
            "Requirement already satisfied: cloudpickle>=1.1.1 in /usr/local/lib/python3.7/dist-packages (from dask<2022.02.0,>=2021.*->feast[aws]==0.19.3) (1.3.0)\n",
            "Requirement already satisfied: toolz>=0.8.2 in /usr/local/lib/python3.7/dist-packages (from dask<2022.02.0,>=2021.*->feast[aws]==0.19.3) (0.11.2)\n",
            "Requirement already satisfied: partd>=0.3.10 in /usr/local/lib/python3.7/dist-packages (from dask<2022.02.0,>=2021.*->feast[aws]==0.19.3) (1.2.0)\n",
            "Requirement already satisfied: packaging>=20.0 in /usr/local/lib/python3.7/dist-packages (from dask<2022.02.0,>=2021.*->feast[aws]==0.19.3) (21.3)\n",
            "Requirement already satisfied: websocket-client>=0.32.0 in /usr/local/lib/python3.7/dist-packages (from docker>=5.0.2->feast[aws]==0.19.3) (1.3.2)\n",
            "Requirement already satisfied: requests!=2.18.0,>=2.14.2 in /usr/local/lib/python3.7/dist-packages (from docker>=5.0.2->feast[aws]==0.19.3) (2.23.0)\n",
            "Requirement already satisfied: starlette==0.17.1 in /usr/local/lib/python3.7/dist-packages (from fastapi>=0.68.0->feast[aws]==0.19.3) (0.17.1)\n",
            "Requirement already satisfied: typing-extensions in /usr/local/lib/python3.7/dist-packages (from starlette==0.17.1->fastapi>=0.68.0->feast[aws]==0.19.3) (4.1.1)\n",
            "Requirement already satisfied: anyio<4,>=3.0.0 in /usr/local/lib/python3.7/dist-packages (from starlette==0.17.1->fastapi>=0.68.0->feast[aws]==0.19.3) (3.5.0)\n",
            "Requirement already satisfied: sniffio>=1.1 in /usr/local/lib/python3.7/dist-packages (from anyio<4,>=3.0.0->starlette==0.17.1->fastapi>=0.68.0->feast[aws]==0.19.3) (1.2.0)\n",
            "Requirement already satisfied: idna>=2.8 in /usr/local/lib/python3.7/dist-packages (from anyio<4,>=3.0.0->starlette==0.17.1->fastapi>=0.68.0->feast[aws]==0.19.3) (2.10)\n",
            "Requirement already satisfied: pytz in /usr/local/lib/python3.7/dist-packages (from google-api-core>=1.23.0->feast[aws]==0.19.3) (2022.1)\n",
            "Requirement already satisfied: setuptools>=40.3.0 in /usr/local/lib/python3.7/dist-packages (from google-api-core>=1.23.0->feast[aws]==0.19.3) (57.4.0)\n",
            "Requirement already satisfied: google-auth<2.0dev,>=1.25.0 in /usr/local/lib/python3.7/dist-packages (from google-api-core>=1.23.0->feast[aws]==0.19.3) (1.35.0)\n",
            "Requirement already satisfied: rsa<5,>=3.1.4 in /usr/local/lib/python3.7/dist-packages (from google-auth<2.0dev,>=1.25.0->google-api-core>=1.23.0->feast[aws]==0.19.3) (4.8)\n",
            "Requirement already satisfied: cachetools<5.0,>=2.0.0 in /usr/local/lib/python3.7/dist-packages (from google-auth<2.0dev,>=1.25.0->google-api-core>=1.23.0->feast[aws]==0.19.3) (4.2.4)\n",
            "Requirement already satisfied: pyasn1-modules>=0.2.1 in /usr/local/lib/python3.7/dist-packages (from google-auth<2.0dev,>=1.25.0->google-api-core>=1.23.0->feast[aws]==0.19.3) (0.2.8)\n",
            "Requirement already satisfied: MarkupSafe>=0.23 in /usr/local/lib/python3.7/dist-packages (from Jinja2>=2.0.0->feast[aws]==0.19.3) (2.0.1)\n",
            "Requirement already satisfied: pyparsing!=3.0.5,>=2.0.2 in /usr/local/lib/python3.7/dist-packages (from packaging>=20.0->dask<2022.02.0,>=2021.*->feast[aws]==0.19.3) (3.0.8)\n",
            "Requirement already satisfied: locket in /usr/local/lib/python3.7/dist-packages (from partd>=0.3.10->dask<2022.02.0,>=2021.*->feast[aws]==0.19.3) (1.0.0)\n",
            "Requirement already satisfied: pyasn1<0.5.0,>=0.4.6 in /usr/local/lib/python3.7/dist-packages (from pyasn1-modules>=0.2.1->google-auth<2.0dev,>=1.25.0->google-api-core>=1.23.0->feast[aws]==0.19.3) (0.4.8)\n",
            "Requirement already satisfied: chardet<4,>=3.0.2 in /usr/local/lib/python3.7/dist-packages (from requests!=2.18.0,>=2.14.2->docker>=5.0.2->feast[aws]==0.19.3) (3.0.4)\n",
            "Requirement already satisfied: certifi>=2017.4.17 in /usr/local/lib/python3.7/dist-packages (from requests!=2.18.0,>=2.14.2->docker>=5.0.2->feast[aws]==0.19.3) (2021.10.8)\n",
            "Requirement already satisfied: absl-py<2.0.0,>=0.9 in /usr/local/lib/python3.7/dist-packages (from tensorflow-metadata<2.0.0,>=1.0.0->feast[aws]==0.19.3) (1.0.0)\n",
            "Requirement already satisfied: h11>=0.8 in /usr/local/lib/python3.7/dist-packages (from uvicorn[standard]>=0.14.0->feast[aws]==0.19.3) (0.13.0)\n",
            "Requirement already satisfied: asgiref>=3.4.0 in /usr/local/lib/python3.7/dist-packages (from uvicorn[standard]>=0.14.0->feast[aws]==0.19.3) (3.5.0)\n",
            "Requirement already satisfied: httptools>=0.4.0 in /usr/local/lib/python3.7/dist-packages (from uvicorn[standard]>=0.14.0->feast[aws]==0.19.3) (0.4.0)\n",
            "Requirement already satisfied: uvloop!=0.15.0,!=0.15.1,>=0.14.0 in /usr/local/lib/python3.7/dist-packages (from uvicorn[standard]>=0.14.0->feast[aws]==0.19.3) (0.16.0)\n",
            "Requirement already satisfied: watchgod>=0.6 in /usr/local/lib/python3.7/dist-packages (from uvicorn[standard]>=0.14.0->feast[aws]==0.19.3) (0.8.2)\n",
            "Requirement already satisfied: websockets>=10.0 in /usr/local/lib/python3.7/dist-packages (from uvicorn[standard]>=0.14.0->feast[aws]==0.19.3) (10.3)\n",
            "Requirement already satisfied: python-dotenv>=0.13 in /usr/local/lib/python3.7/dist-packages (from uvicorn[standard]>=0.14.0->feast[aws]==0.19.3) (0.20.0)\n",
            "Requirement already satisfied: importlib-resources>=1.4.0 in /usr/local/lib/python3.7/dist-packages (from jsonschema->feast[aws]==0.19.3) (5.7.0)\n",
            "Requirement already satisfied: attrs>=17.4.0 in /usr/local/lib/python3.7/dist-packages (from jsonschema->feast[aws]==0.19.3) (21.4.0)\n",
            "Requirement already satisfied: pyrsistent!=0.17.0,!=0.17.1,!=0.17.2,>=0.14.0 in /usr/local/lib/python3.7/dist-packages (from jsonschema->feast[aws]==0.19.3) (0.18.1)\n",
            "Requirement already satisfied: importlib-metadata in /usr/local/lib/python3.7/dist-packages (from jsonschema->feast[aws]==0.19.3) (4.11.3)\n",
            "Requirement already satisfied: zipp>=3.1.0 in /usr/local/lib/python3.7/dist-packages (from importlib-resources>=1.4.0->jsonschema->feast[aws]==0.19.3) (3.8.0)\n"
          ]
        }
      ],
      "source": [
        "!pip install feast[aws]==0.19.3"
      ]
    },
    {
      "cell_type": "code",
      "execution_count": null,
      "metadata": {
        "id": "sNZ5HSjXfzJ7"
      },
      "outputs": [],
      "source": [
        "!git clone <feature_repo>"
      ]
    },
    {
      "cell_type": "markdown",
      "metadata": {
        "id": "MsAmNK-4hUm0"
      },
      "source": [
        "## **Apply Feature definition**\n",
        "Before running the next set of commands do the following.\n",
        "*   Create entity and feature defintions\n",
        "*   Creating all the resources and mapping external database\n"
      ]
    },
    {
      "cell_type": "code",
      "execution_count": 3,
      "metadata": {
        "id": "nxewr3VOhN9_"
      },
      "outputs": [],
      "source": [
        "### Contents of rfm_features.py \n",
        "\n",
        "### Uncomment the following code block copy and create file called rfm_features.py in the root folder of feature_repo. \n",
        "\n",
        "\n",
        "# from feast import Entity, ValueType, FeatureView, Feature, RedshiftSource\n",
        "# from datetime import timedelta\n",
        "\n",
        "# # Customer ID entity definition.\n",
        "# customer = Entity(\n",
        "#     name='customer',\n",
        "#     value_type=ValueType.STRING,\n",
        "#     join_key='customerid',\n",
        "#     description=\"Id of the customer\"\n",
        "# )\n",
        "\n",
        "# # Redshift batch source\n",
        "# rfm_features_source = RedshiftSource(\n",
        "#     query=\"SELECT * FROM spectrum.customer_rfm_features\",\n",
        "#     event_timestamp_column=\"event_timestamp\",\n",
        "#     created_timestamp_column=\"created_timestamp\",\n",
        "# )\n",
        "\n",
        "# rfm_features_features = FeatureView(\n",
        "#     name=\"customer_rfm_features\",\n",
        "\n",
        "#     entities=[\"customer\"],\n",
        "#     ttl=timedelta(days=3650),\n",
        "#     features=[\n",
        "#         Feature(name=\"recency\", dtype=ValueType.INT32),\n",
        "#         Feature(name=\"frequency\", dtype=ValueType.INT32),\n",
        "#         Feature(name=\"monetaryvalue\", dtype=ValueType.DOUBLE),\n",
        "#         Feature(name=\"r\", dtype=ValueType.INT32),\n",
        "#         Feature(name=\"f\", dtype=ValueType.INT32),\n",
        "#         Feature(name=\"m\", dtype=ValueType.INT32),\n",
        "#         Feature(name=\"rfmscore\", dtype=ValueType.INT32),\n",
        "#         Feature(name=\"revenue6m\", dtype=ValueType.DOUBLE),\n",
        "#         Feature(name=\"ltvcluster\", dtype=ValueType.INT32),\n",
        "#         Feature(name=\"segmenthighvalue\", dtype=ValueType.INT32),\n",
        "#         Feature(name=\"segmentlowvalue\", dtype=ValueType.INT32),\n",
        "#         Feature(name=\"segmentmidvalue\", dtype=ValueType.INT32),\n",
        "#     ],\n",
        "#     batch_source=rfm_features_source,\n",
        "# )\n"
      ]
    },
    {
      "cell_type": "code",
      "execution_count": null,
      "metadata": {
        "id": "w3jsvZXYVXnJ"
      },
      "outputs": [],
      "source": [
        "import os\n",
        "os.environ[\"AWS_ACCESS_KEY_ID\"] = \"<aws_key>\"\n",
        "os.environ[\"AWS_SECRET_ACCESS_KEY\"] = \"<aws_secret>\"\n",
        "os.environ[\"AWS_DEFAULT_REGION\"] = \"us-east-1\""
      ]
    },
    {
      "cell_type": "code",
      "execution_count": null,
      "metadata": {
        "colab": {
          "base_uri": "https://localhost:8080/"
        },
        "id": "vw5pFyXQXNZl",
        "outputId": "4ba0b5ba-7799-433c-d229-793fe17c1e72"
      },
      "outputs": [
        {
          "name": "stdout",
          "output_type": "stream",
          "text": [
            "[Errno 2] No such file or directory: 'customer_segmentation/'\n",
            "/content/customer_segmentation\n",
            "/usr/local/lib/python3.7/dist-packages/scipy/fft/__init__.py:97: DeprecationWarning: The module numpy.dual is deprecated.  Instead of using dual, use the functions directly from numpy or scipy.\n",
            "  from numpy.dual import register_func\n",
            "/usr/local/lib/python3.7/dist-packages/scipy/sparse/sputils.py:17: DeprecationWarning: `np.typeDict` is a deprecated alias for `np.sctypeDict`.\n",
            "  supported_dtypes = [np.typeDict[x] for x in supported_dtypes]\n",
            "/usr/local/lib/python3.7/dist-packages/feast/infra/offline_stores/redshift_source.py:55: DeprecationWarning: Starting in Feast 0.21, Feast will require either a name for a data source (if using query) or `table`.\n",
            "  DeprecationWarning,\n",
            "03/14/2022 03:01:38 AM INFO:Found credentials in environment variables.\n",
            "Created data source \u001b[1m\u001b[32m\u001b[0m\n",
            "Created entity \u001b[1m\u001b[32mcustomer\u001b[0m\n",
            "Created feature view \u001b[1m\u001b[32mcustomer_rfm_features\u001b[0m\n",
            "\n",
            "Deploying infrastructure for \u001b[1m\u001b[32mcustomer_rfm_features\u001b[0m\n"
          ]
        }
      ],
      "source": [
        "%cd customer_segmentation/\n",
        "!feast apply"
      ]
    },
    {
      "cell_type": "markdown",
      "metadata": {
        "id": "wEEsGLdOnsaO"
      },
      "source": [
        "## **Check-in Feature repo**\n",
        "After running `apply` command check in the feature repo back to GitHub so that it is available for later."
      ]
    },
    {
      "cell_type": "markdown",
      "metadata": {
        "id": "FXYBk8UF7LxU"
      },
      "source": [
        "## **After Feast Apply**"
      ]
    },
    {
      "cell_type": "code",
      "execution_count": 1,
      "metadata": {
        "colab": {
          "base_uri": "https://localhost:8080/"
        },
        "id": "FG0wi_mu26u_",
        "outputId": "2c19df78-6e94-41e3-a3d4-260e5b599ece"
      },
      "outputs": [
        {
          "name": "stdout",
          "output_type": "stream",
          "text": [
            "/content/customer_segmentation\n",
            "Feast is an open source project that collects anonymized error reporting and usage statistics. To opt out or learn more see https://docs.feast.dev/reference/usage\n"
          ]
        },
        {
          "name": "stderr",
          "output_type": "stream",
          "text": [
            "/usr/local/lib/python3.7/dist-packages/scipy/fft/__init__.py:97: DeprecationWarning: The module numpy.dual is deprecated.  Instead of using dual, use the functions directly from numpy or scipy.\n",
            "  from numpy.dual import register_func\n",
            "/usr/local/lib/python3.7/dist-packages/scipy/sparse/sputils.py:17: DeprecationWarning: `np.typeDict` is a deprecated alias for `np.sctypeDict`.\n",
            "  supported_dtypes = [np.typeDict[x] for x in supported_dtypes]\n"
          ]
        }
      ],
      "source": [
        "%cd customer_segmentation/\n",
        "from feast import FeatureStore\n",
        "store = FeatureStore(repo_path=\".\")"
      ]
    },
    {
      "cell_type": "code",
      "execution_count": 2,
      "metadata": {
        "colab": {
          "base_uri": "https://localhost:8080/"
        },
        "id": "WX87IDUx3fjR",
        "outputId": "870fb861-b54b-4175-a496-98d66d11aef2"
      },
      "outputs": [
        {
          "name": "stdout",
          "output_type": "stream",
          "text": [
            "-----------------------Entity----------------------------\n",
            "entity: {\n",
            "  \"spec\": {\n",
            "    \"name\": \"customer\",\n",
            "    \"valueType\": \"STRING\",\n",
            "    \"description\": \"Id of the customer\",\n",
            "    \"joinKey\": \"customerid\"\n",
            "  },\n",
            "  \"meta\": {\n",
            "    \"createdTimestamp\": \"2022-03-27T18:07:14.597257Z\",\n",
            "    \"lastUpdatedTimestamp\": \"2022-03-27T18:07:14.597257Z\"\n",
            "  }\n",
            "}\n",
            "--------------------Feature Views----------------------------\n",
            "List of FeatureViews: {\n",
            "  \"spec\": {\n",
            "    \"name\": \"customer_rfm_features\",\n",
            "    \"entities\": [\n",
            "      \"customer\"\n",
            "    ],\n",
            "    \"features\": [\n",
            "      {\n",
            "        \"name\": \"recency\",\n",
            "        \"valueType\": \"INT32\"\n",
            "      },\n",
            "      {\n",
            "        \"name\": \"frequency\",\n",
            "        \"valueType\": \"INT32\"\n",
            "      },\n",
            "      {\n",
            "        \"name\": \"monetaryvalue\",\n",
            "        \"valueType\": \"DOUBLE\"\n",
            "      },\n",
            "      {\n",
            "        \"name\": \"r\",\n",
            "        \"valueType\": \"INT32\"\n",
            "      },\n",
            "      {\n",
            "        \"name\": \"f\",\n",
            "        \"valueType\": \"INT32\"\n",
            "      },\n",
            "      {\n",
            "        \"name\": \"m\",\n",
            "        \"valueType\": \"INT32\"\n",
            "      },\n",
            "      {\n",
            "        \"name\": \"rfmscore\",\n",
            "        \"valueType\": \"INT32\"\n",
            "      },\n",
            "      {\n",
            "        \"name\": \"revenue6m\",\n",
            "        \"valueType\": \"DOUBLE\"\n",
            "      },\n",
            "      {\n",
            "        \"name\": \"ltvcluster\",\n",
            "        \"valueType\": \"INT32\"\n",
            "      },\n",
            "      {\n",
            "        \"name\": \"segmenthighvalue\",\n",
            "        \"valueType\": \"INT32\"\n",
            "      },\n",
            "      {\n",
            "        \"name\": \"segmentlowvalue\",\n",
            "        \"valueType\": \"INT32\"\n",
            "      },\n",
            "      {\n",
            "        \"name\": \"segmentmidvalue\",\n",
            "        \"valueType\": \"INT32\"\n",
            "      }\n",
            "    ],\n",
            "    \"ttl\": \"315360000s\",\n",
            "    \"batchSource\": {\n",
            "      \"type\": \"BATCH_REDSHIFT\",\n",
            "      \"eventTimestampColumn\": \"event_timestamp\",\n",
            "      \"createdTimestampColumn\": \"created_timestamp\",\n",
            "      \"redshiftOptions\": {\n",
            "        \"query\": \"SELECT * FROM spectrum.customer_rfm_features\"\n",
            "      },\n",
            "      \"dataSourceClassType\": \"feast.infra.offline_stores.redshift_source.RedshiftSource\"\n",
            "    },\n",
            "    \"online\": true\n",
            "  },\n",
            "  \"meta\": {\n",
            "    \"createdTimestamp\": \"2022-03-27T18:07:14.597257Z\",\n",
            "    \"lastUpdatedTimestamp\": \"2022-03-27T18:07:14.597257Z\"\n",
            "  }\n",
            "}\n"
          ]
        },
        {
          "name": "stderr",
          "output_type": "stream",
          "text": [
            "/usr/local/lib/python3.7/dist-packages/feast/infra/offline_stores/redshift_source.py:55: DeprecationWarning: Starting in Feast 0.21, Feast will require either a name for a data source (if using query) or `table`.\n",
            "  DeprecationWarning,\n"
          ]
        }
      ],
      "source": [
        "print(\"-----------------------Entity----------------------------\")\n",
        "for entity in store.list_entities():\n",
        "  print(f\"entity: {entity}\")\n",
        "print(\"--------------------Feature Views----------------------------\")\n",
        "for feature_view in store.list_feature_views():\n",
        "  print(f\"List of FeatureViews: {feature_view}\")"
      ]
    },
    {
      "cell_type": "markdown",
      "metadata": {
        "id": "pg5V5OiX7nDK"
      },
      "source": [
        "## **Query data after ingestion**"
      ]
    },
    {
      "cell_type": "code",
      "execution_count": 3,
      "metadata": {
        "id": "71dm31P67tTQ"
      },
      "outputs": [],
      "source": [
        "import pandas as pd\n",
        "from datetime import datetime, timedelta\n",
        "entity_df = pd.DataFrame.from_dict(\n",
        "    {\n",
        "        \"customerid\": [\"12747.0\", \"12748.0\", \"12749.0\"],\n",
        "        \"event_timestamp\": [datetime.now()]*3\n",
        "    }\n",
        ")\n",
        "entity_df.head()"
      ]
    },
    {
      "cell_type": "code",
      "execution_count": null,
      "metadata": {
        "colab": {
          "base_uri": "https://localhost:8080/"
        },
        "id": "6eLaTXTt85If",
        "outputId": "5c7792fc-9676-45a3-9d2d-5e4aeae183f6"
      },
      "outputs": [
        {
          "name": "stderr",
          "output_type": "stream",
          "text": [
            "/usr/local/lib/python3.7/dist-packages/feast/infra/offline_stores/redshift_source.py:55: DeprecationWarning: Starting in Feast 0.21, Feast will require either a name for a data source (if using query) or `table`.\n",
            "  DeprecationWarning,\n"
          ]
        }
      ],
      "source": [
        "job = store.get_historical_features(\n",
        "    entity_df=entity_df,\n",
        "    features=[\n",
        "              \"customer_rfm_features:recency\", \n",
        "              \"customer_rfm_features:frequency\", \n",
        "              \"customer_rfm_features:monetaryvalue\", \n",
        "              \"customer_rfm_features:r\", \n",
        "              \"customer_rfm_features:f\", \n",
        "              \"customer_rfm_features:m\"]\n",
        "    )"
      ]
    },
    {
      "cell_type": "code",
      "execution_count": null,
      "metadata": {
        "id": "ch8QHqxU-QtN"
      },
      "outputs": [],
      "source": [
        "df = job.to_df()"
      ]
    },
    {
      "cell_type": "code",
      "execution_count": null,
      "metadata": {
        "colab": {
          "base_uri": "https://localhost:8080/",
          "height": 143
        },
        "id": "EvDw3o3TCfX7",
        "outputId": "1dd04fe7-0b9b-43a0-d385-6f5db068cd61"
      },
      "outputs": [
        {
          "data": {
            "text/html": [
              "\n",
              "  <div id=\"df-659bf20c-8b14-4bbc-8b51-11d37f83538a\">\n",
              "    <div class=\"colab-df-container\">\n",
              "      <div>\n",
              "<style scoped>\n",
              "    .dataframe tbody tr th:only-of-type {\n",
              "        vertical-align: middle;\n",
              "    }\n",
              "\n",
              "    .dataframe tbody tr th {\n",
              "        vertical-align: top;\n",
              "    }\n",
              "\n",
              "    .dataframe thead th {\n",
              "        text-align: right;\n",
              "    }\n",
              "</style>\n",
              "<table border=\"1\" class=\"dataframe\">\n",
              "  <thead>\n",
              "    <tr style=\"text-align: right;\">\n",
              "      <th></th>\n",
              "      <th>customerid</th>\n",
              "      <th>event_timestamp</th>\n",
              "      <th>recency</th>\n",
              "      <th>frequency</th>\n",
              "      <th>monetaryvalue</th>\n",
              "      <th>r</th>\n",
              "      <th>f</th>\n",
              "      <th>m</th>\n",
              "    </tr>\n",
              "  </thead>\n",
              "  <tbody>\n",
              "    <tr>\n",
              "      <th>0</th>\n",
              "      <td>12747.0</td>\n",
              "      <td>2022-03-15 00:58:45.594038</td>\n",
              "      <td>7</td>\n",
              "      <td>35</td>\n",
              "      <td>1082.09</td>\n",
              "      <td>3</td>\n",
              "      <td>2</td>\n",
              "      <td>3</td>\n",
              "    </tr>\n",
              "    <tr>\n",
              "      <th>1</th>\n",
              "      <td>12749.0</td>\n",
              "      <td>2022-03-15 00:58:45.594038</td>\n",
              "      <td>8</td>\n",
              "      <td>54</td>\n",
              "      <td>782.10</td>\n",
              "      <td>3</td>\n",
              "      <td>3</td>\n",
              "      <td>3</td>\n",
              "    </tr>\n",
              "    <tr>\n",
              "      <th>2</th>\n",
              "      <td>12748.0</td>\n",
              "      <td>2022-03-15 00:58:45.594038</td>\n",
              "      <td>1</td>\n",
              "      <td>582</td>\n",
              "      <td>4336.73</td>\n",
              "      <td>3</td>\n",
              "      <td>3</td>\n",
              "      <td>3</td>\n",
              "    </tr>\n",
              "  </tbody>\n",
              "</table>\n",
              "</div>\n",
              "      <button class=\"colab-df-convert\" onclick=\"convertToInteractive('df-659bf20c-8b14-4bbc-8b51-11d37f83538a')\"\n",
              "              title=\"Convert this dataframe to an interactive table.\"\n",
              "              style=\"display:none;\">\n",
              "        \n",
              "  <svg xmlns=\"http://www.w3.org/2000/svg\" height=\"24px\"viewBox=\"0 0 24 24\"\n",
              "       width=\"24px\">\n",
              "    <path d=\"M0 0h24v24H0V0z\" fill=\"none\"/>\n",
              "    <path d=\"M18.56 5.44l.94 2.06.94-2.06 2.06-.94-2.06-.94-.94-2.06-.94 2.06-2.06.94zm-11 1L8.5 8.5l.94-2.06 2.06-.94-2.06-.94L8.5 2.5l-.94 2.06-2.06.94zm10 10l.94 2.06.94-2.06 2.06-.94-2.06-.94-.94-2.06-.94 2.06-2.06.94z\"/><path d=\"M17.41 7.96l-1.37-1.37c-.4-.4-.92-.59-1.43-.59-.52 0-1.04.2-1.43.59L10.3 9.45l-7.72 7.72c-.78.78-.78 2.05 0 2.83L4 21.41c.39.39.9.59 1.41.59.51 0 1.02-.2 1.41-.59l7.78-7.78 2.81-2.81c.8-.78.8-2.07 0-2.86zM5.41 20L4 18.59l7.72-7.72 1.47 1.35L5.41 20z\"/>\n",
              "  </svg>\n",
              "      </button>\n",
              "      \n",
              "  <style>\n",
              "    .colab-df-container {\n",
              "      display:flex;\n",
              "      flex-wrap:wrap;\n",
              "      gap: 12px;\n",
              "    }\n",
              "\n",
              "    .colab-df-convert {\n",
              "      background-color: #E8F0FE;\n",
              "      border: none;\n",
              "      border-radius: 50%;\n",
              "      cursor: pointer;\n",
              "      display: none;\n",
              "      fill: #1967D2;\n",
              "      height: 32px;\n",
              "      padding: 0 0 0 0;\n",
              "      width: 32px;\n",
              "    }\n",
              "\n",
              "    .colab-df-convert:hover {\n",
              "      background-color: #E2EBFA;\n",
              "      box-shadow: 0px 1px 2px rgba(60, 64, 67, 0.3), 0px 1px 3px 1px rgba(60, 64, 67, 0.15);\n",
              "      fill: #174EA6;\n",
              "    }\n",
              "\n",
              "    [theme=dark] .colab-df-convert {\n",
              "      background-color: #3B4455;\n",
              "      fill: #D2E3FC;\n",
              "    }\n",
              "\n",
              "    [theme=dark] .colab-df-convert:hover {\n",
              "      background-color: #434B5C;\n",
              "      box-shadow: 0px 1px 3px 1px rgba(0, 0, 0, 0.15);\n",
              "      filter: drop-shadow(0px 1px 2px rgba(0, 0, 0, 0.3));\n",
              "      fill: #FFFFFF;\n",
              "    }\n",
              "  </style>\n",
              "\n",
              "      <script>\n",
              "        const buttonEl =\n",
              "          document.querySelector('#df-659bf20c-8b14-4bbc-8b51-11d37f83538a button.colab-df-convert');\n",
              "        buttonEl.style.display =\n",
              "          google.colab.kernel.accessAllowed ? 'block' : 'none';\n",
              "\n",
              "        async function convertToInteractive(key) {\n",
              "          const element = document.querySelector('#df-659bf20c-8b14-4bbc-8b51-11d37f83538a');\n",
              "          const dataTable =\n",
              "            await google.colab.kernel.invokeFunction('convertToInteractive',\n",
              "                                                     [key], {});\n",
              "          if (!dataTable) return;\n",
              "\n",
              "          const docLinkHtml = 'Like what you see? Visit the ' +\n",
              "            '<a target=\"_blank\" href=https://colab.research.google.com/notebooks/data_table.ipynb>data table notebook</a>'\n",
              "            + ' to learn more about interactive tables.';\n",
              "          element.innerHTML = '';\n",
              "          dataTable['output_type'] = 'display_data';\n",
              "          await google.colab.output.renderOutput(dataTable, element);\n",
              "          const docLink = document.createElement('div');\n",
              "          docLink.innerHTML = docLinkHtml;\n",
              "          element.appendChild(docLink);\n",
              "        }\n",
              "      </script>\n",
              "    </div>\n",
              "  </div>\n",
              "  "
            ],
            "text/plain": [
              "  customerid            event_timestamp  recency  frequency  monetaryvalue  r  \\\n",
              "0    12747.0 2022-03-15 00:58:45.594038        7         35        1082.09  3   \n",
              "1    12749.0 2022-03-15 00:58:45.594038        8         54         782.10  3   \n",
              "2    12748.0 2022-03-15 00:58:45.594038        1        582        4336.73  3   \n",
              "\n",
              "   f  m  \n",
              "0  2  3  \n",
              "1  3  3  \n",
              "2  3  3  "
            ]
          },
          "execution_count": 27,
          "metadata": {},
          "output_type": "execute_result"
        }
      ],
      "source": [
        "df.head()"
      ]
    }
  ],
  "metadata": {
    "colab": {
      "collapsed_sections": [],
      "name": "ch4_create_apply_feature_definitions.ipynb",
      "provenance": []
    },
    "kernelspec": {
      "display_name": "Python 3",
      "name": "python3"
    },
    "language_info": {
      "name": "python",
      "version": "3.10.4"
    }
  },
  "nbformat": 4,
  "nbformat_minor": 0
}
